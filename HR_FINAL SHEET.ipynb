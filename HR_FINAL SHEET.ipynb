{
 "cells": [
  {
   "cell_type": "code",
   "execution_count": 2,
   "id": "2cda1186",
   "metadata": {},
   "outputs": [],
   "source": [
    "import pandas as pd\n",
    "import numpy as np\n",
    "import matplotlib.pyplot as plt\n",
    "import seaborn as sns\n",
    "import warnings\n",
    "pd.set_option(\"display.max_columns\",1000)\n",
    "warnings.filterwarnings(\"ignore\")\n",
    "%matplotlib inline\n",
    "import os"
   ]
  },
  {
   "cell_type": "code",
   "execution_count": 3,
   "id": "6642f849",
   "metadata": {},
   "outputs": [
    {
     "data": {
      "text/plain": [
       "'C:\\\\Users\\\\Monu'"
      ]
     },
     "execution_count": 3,
     "metadata": {},
     "output_type": "execute_result"
    }
   ],
   "source": [
    "os.getcwd()"
   ]
  },
  {
   "cell_type": "code",
   "execution_count": 4,
   "id": "b9486085",
   "metadata": {},
   "outputs": [],
   "source": [
    "os.chdir(\"C:/Users/Monu/Desktop/Pandas/HR\")"
   ]
  },
  {
   "cell_type": "code",
   "execution_count": 105,
   "id": "6845fe86",
   "metadata": {},
   "outputs": [],
   "source": [
    "hr_data=pd.read_csv(\"train.csv\",encoding=\"unicode_escape\")\n",
    "hr_data2=pd.read_csv(\"test.csv\",encoding=\"unicode_escape\")"
   ]
  },
  {
   "cell_type": "code",
   "execution_count": 6,
   "id": "79d5db86",
   "metadata": {},
   "outputs": [],
   "source": [
    "hr1=hr_data.append(hr_data2)"
   ]
  },
  {
   "cell_type": "code",
   "execution_count": 7,
   "id": "8a6f3c70",
   "metadata": {},
   "outputs": [
    {
     "data": {
      "text/plain": [
       "(54808, 14)"
      ]
     },
     "execution_count": 7,
     "metadata": {},
     "output_type": "execute_result"
    }
   ],
   "source": [
    "hr_data.shape\n"
   ]
  },
  {
   "cell_type": "code",
   "execution_count": 8,
   "id": "2dd6fb70",
   "metadata": {},
   "outputs": [
    {
     "data": {
      "text/plain": [
       "(78298, 14)"
      ]
     },
     "execution_count": 8,
     "metadata": {},
     "output_type": "execute_result"
    }
   ],
   "source": [
    "hr1.shape"
   ]
  },
  {
   "cell_type": "code",
   "execution_count": 9,
   "id": "9cc82cd6",
   "metadata": {},
   "outputs": [
    {
     "data": {
      "text/html": [
       "<div>\n",
       "<style scoped>\n",
       "    .dataframe tbody tr th:only-of-type {\n",
       "        vertical-align: middle;\n",
       "    }\n",
       "\n",
       "    .dataframe tbody tr th {\n",
       "        vertical-align: top;\n",
       "    }\n",
       "\n",
       "    .dataframe thead th {\n",
       "        text-align: right;\n",
       "    }\n",
       "</style>\n",
       "<table border=\"1\" class=\"dataframe\">\n",
       "  <thead>\n",
       "    <tr style=\"text-align: right;\">\n",
       "      <th></th>\n",
       "      <th>employee_id</th>\n",
       "      <th>department</th>\n",
       "      <th>region</th>\n",
       "      <th>education</th>\n",
       "      <th>gender</th>\n",
       "      <th>recruitment_channel</th>\n",
       "      <th>no_of_trainings</th>\n",
       "      <th>age</th>\n",
       "      <th>previous_year_rating</th>\n",
       "      <th>length_of_service</th>\n",
       "      <th>KPIs_met &gt;80%</th>\n",
       "      <th>awards_won?</th>\n",
       "      <th>avg_training_score</th>\n",
       "      <th>is_promoted</th>\n",
       "    </tr>\n",
       "  </thead>\n",
       "  <tbody>\n",
       "    <tr>\n",
       "      <th>count</th>\n",
       "      <td>78298.000000</td>\n",
       "      <td>78298</td>\n",
       "      <td>78298</td>\n",
       "      <td>74855</td>\n",
       "      <td>78298</td>\n",
       "      <td>78298</td>\n",
       "      <td>78298.000000</td>\n",
       "      <td>78298.000000</td>\n",
       "      <td>72362.000000</td>\n",
       "      <td>78298.000000</td>\n",
       "      <td>78298.000000</td>\n",
       "      <td>78298.000000</td>\n",
       "      <td>78298.000000</td>\n",
       "      <td>54808.000000</td>\n",
       "    </tr>\n",
       "    <tr>\n",
       "      <th>unique</th>\n",
       "      <td>NaN</td>\n",
       "      <td>9</td>\n",
       "      <td>34</td>\n",
       "      <td>3</td>\n",
       "      <td>2</td>\n",
       "      <td>3</td>\n",
       "      <td>NaN</td>\n",
       "      <td>NaN</td>\n",
       "      <td>NaN</td>\n",
       "      <td>NaN</td>\n",
       "      <td>NaN</td>\n",
       "      <td>NaN</td>\n",
       "      <td>NaN</td>\n",
       "      <td>NaN</td>\n",
       "    </tr>\n",
       "    <tr>\n",
       "      <th>top</th>\n",
       "      <td>NaN</td>\n",
       "      <td>Sales &amp; Marketing</td>\n",
       "      <td>region_2</td>\n",
       "      <td>Bachelor's</td>\n",
       "      <td>m</td>\n",
       "      <td>other</td>\n",
       "      <td>NaN</td>\n",
       "      <td>NaN</td>\n",
       "      <td>NaN</td>\n",
       "      <td>NaN</td>\n",
       "      <td>NaN</td>\n",
       "      <td>NaN</td>\n",
       "      <td>NaN</td>\n",
       "      <td>NaN</td>\n",
       "    </tr>\n",
       "    <tr>\n",
       "      <th>freq</th>\n",
       "      <td>NaN</td>\n",
       "      <td>24155</td>\n",
       "      <td>17642</td>\n",
       "      <td>52247</td>\n",
       "      <td>55092</td>\n",
       "      <td>43524</td>\n",
       "      <td>NaN</td>\n",
       "      <td>NaN</td>\n",
       "      <td>NaN</td>\n",
       "      <td>NaN</td>\n",
       "      <td>NaN</td>\n",
       "      <td>NaN</td>\n",
       "      <td>NaN</td>\n",
       "      <td>NaN</td>\n",
       "    </tr>\n",
       "    <tr>\n",
       "      <th>mean</th>\n",
       "      <td>39149.500000</td>\n",
       "      <td>NaN</td>\n",
       "      <td>NaN</td>\n",
       "      <td>NaN</td>\n",
       "      <td>NaN</td>\n",
       "      <td>NaN</td>\n",
       "      <td>1.253378</td>\n",
       "      <td>34.797619</td>\n",
       "      <td>3.332219</td>\n",
       "      <td>5.848974</td>\n",
       "      <td>0.354032</td>\n",
       "      <td>0.023053</td>\n",
       "      <td>63.349664</td>\n",
       "      <td>0.085170</td>\n",
       "    </tr>\n",
       "    <tr>\n",
       "      <th>std</th>\n",
       "      <td>22602.830026</td>\n",
       "      <td>NaN</td>\n",
       "      <td>NaN</td>\n",
       "      <td>NaN</td>\n",
       "      <td>NaN</td>\n",
       "      <td>NaN</td>\n",
       "      <td>0.606766</td>\n",
       "      <td>7.665928</td>\n",
       "      <td>1.260982</td>\n",
       "      <td>4.248070</td>\n",
       "      <td>0.478222</td>\n",
       "      <td>0.150073</td>\n",
       "      <td>13.383664</td>\n",
       "      <td>0.279137</td>\n",
       "    </tr>\n",
       "    <tr>\n",
       "      <th>min</th>\n",
       "      <td>1.000000</td>\n",
       "      <td>NaN</td>\n",
       "      <td>NaN</td>\n",
       "      <td>NaN</td>\n",
       "      <td>NaN</td>\n",
       "      <td>NaN</td>\n",
       "      <td>1.000000</td>\n",
       "      <td>20.000000</td>\n",
       "      <td>1.000000</td>\n",
       "      <td>1.000000</td>\n",
       "      <td>0.000000</td>\n",
       "      <td>0.000000</td>\n",
       "      <td>39.000000</td>\n",
       "      <td>0.000000</td>\n",
       "    </tr>\n",
       "    <tr>\n",
       "      <th>25%</th>\n",
       "      <td>19575.250000</td>\n",
       "      <td>NaN</td>\n",
       "      <td>NaN</td>\n",
       "      <td>NaN</td>\n",
       "      <td>NaN</td>\n",
       "      <td>NaN</td>\n",
       "      <td>1.000000</td>\n",
       "      <td>29.000000</td>\n",
       "      <td>3.000000</td>\n",
       "      <td>3.000000</td>\n",
       "      <td>0.000000</td>\n",
       "      <td>0.000000</td>\n",
       "      <td>51.000000</td>\n",
       "      <td>0.000000</td>\n",
       "    </tr>\n",
       "    <tr>\n",
       "      <th>50%</th>\n",
       "      <td>39149.500000</td>\n",
       "      <td>NaN</td>\n",
       "      <td>NaN</td>\n",
       "      <td>NaN</td>\n",
       "      <td>NaN</td>\n",
       "      <td>NaN</td>\n",
       "      <td>1.000000</td>\n",
       "      <td>33.000000</td>\n",
       "      <td>3.000000</td>\n",
       "      <td>5.000000</td>\n",
       "      <td>0.000000</td>\n",
       "      <td>0.000000</td>\n",
       "      <td>60.000000</td>\n",
       "      <td>0.000000</td>\n",
       "    </tr>\n",
       "    <tr>\n",
       "      <th>75%</th>\n",
       "      <td>58723.750000</td>\n",
       "      <td>NaN</td>\n",
       "      <td>NaN</td>\n",
       "      <td>NaN</td>\n",
       "      <td>NaN</td>\n",
       "      <td>NaN</td>\n",
       "      <td>1.000000</td>\n",
       "      <td>39.000000</td>\n",
       "      <td>4.000000</td>\n",
       "      <td>7.000000</td>\n",
       "      <td>1.000000</td>\n",
       "      <td>0.000000</td>\n",
       "      <td>76.000000</td>\n",
       "      <td>0.000000</td>\n",
       "    </tr>\n",
       "    <tr>\n",
       "      <th>max</th>\n",
       "      <td>78298.000000</td>\n",
       "      <td>NaN</td>\n",
       "      <td>NaN</td>\n",
       "      <td>NaN</td>\n",
       "      <td>NaN</td>\n",
       "      <td>NaN</td>\n",
       "      <td>10.000000</td>\n",
       "      <td>60.000000</td>\n",
       "      <td>5.000000</td>\n",
       "      <td>37.000000</td>\n",
       "      <td>1.000000</td>\n",
       "      <td>1.000000</td>\n",
       "      <td>99.000000</td>\n",
       "      <td>1.000000</td>\n",
       "    </tr>\n",
       "  </tbody>\n",
       "</table>\n",
       "</div>"
      ],
      "text/plain": [
       "         employee_id         department    region   education gender  \\\n",
       "count   78298.000000              78298     78298       74855  78298   \n",
       "unique           NaN                  9        34           3      2   \n",
       "top              NaN  Sales & Marketing  region_2  Bachelor's      m   \n",
       "freq             NaN              24155     17642       52247  55092   \n",
       "mean    39149.500000                NaN       NaN         NaN    NaN   \n",
       "std     22602.830026                NaN       NaN         NaN    NaN   \n",
       "min         1.000000                NaN       NaN         NaN    NaN   \n",
       "25%     19575.250000                NaN       NaN         NaN    NaN   \n",
       "50%     39149.500000                NaN       NaN         NaN    NaN   \n",
       "75%     58723.750000                NaN       NaN         NaN    NaN   \n",
       "max     78298.000000                NaN       NaN         NaN    NaN   \n",
       "\n",
       "       recruitment_channel  no_of_trainings           age  \\\n",
       "count                78298     78298.000000  78298.000000   \n",
       "unique                   3              NaN           NaN   \n",
       "top                  other              NaN           NaN   \n",
       "freq                 43524              NaN           NaN   \n",
       "mean                   NaN         1.253378     34.797619   \n",
       "std                    NaN         0.606766      7.665928   \n",
       "min                    NaN         1.000000     20.000000   \n",
       "25%                    NaN         1.000000     29.000000   \n",
       "50%                    NaN         1.000000     33.000000   \n",
       "75%                    NaN         1.000000     39.000000   \n",
       "max                    NaN        10.000000     60.000000   \n",
       "\n",
       "        previous_year_rating  length_of_service  KPIs_met >80%   awards_won?  \\\n",
       "count           72362.000000       78298.000000   78298.000000  78298.000000   \n",
       "unique                   NaN                NaN            NaN           NaN   \n",
       "top                      NaN                NaN            NaN           NaN   \n",
       "freq                     NaN                NaN            NaN           NaN   \n",
       "mean                3.332219           5.848974       0.354032      0.023053   \n",
       "std                 1.260982           4.248070       0.478222      0.150073   \n",
       "min                 1.000000           1.000000       0.000000      0.000000   \n",
       "25%                 3.000000           3.000000       0.000000      0.000000   \n",
       "50%                 3.000000           5.000000       0.000000      0.000000   \n",
       "75%                 4.000000           7.000000       1.000000      0.000000   \n",
       "max                 5.000000          37.000000       1.000000      1.000000   \n",
       "\n",
       "        avg_training_score   is_promoted  \n",
       "count         78298.000000  54808.000000  \n",
       "unique                 NaN           NaN  \n",
       "top                    NaN           NaN  \n",
       "freq                   NaN           NaN  \n",
       "mean             63.349664      0.085170  \n",
       "std              13.383664      0.279137  \n",
       "min              39.000000      0.000000  \n",
       "25%              51.000000      0.000000  \n",
       "50%              60.000000      0.000000  \n",
       "75%              76.000000      0.000000  \n",
       "max              99.000000      1.000000  "
      ]
     },
     "execution_count": 9,
     "metadata": {},
     "output_type": "execute_result"
    }
   ],
   "source": [
    "hr1.describe(include=\"all\")"
   ]
  },
  {
   "cell_type": "markdown",
   "id": "7b922f82",
   "metadata": {},
   "source": [
    "findout and fill null values"
   ]
  },
  {
   "cell_type": "code",
   "execution_count": 10,
   "id": "bfa92c3e",
   "metadata": {},
   "outputs": [
    {
     "data": {
      "text/plain": [
       "employee_id                 0\n",
       "department                  0\n",
       "region                      0\n",
       "education                3443\n",
       "gender                      0\n",
       "recruitment_channel         0\n",
       "no_of_trainings             0\n",
       "age                         0\n",
       "previous_year_rating     5936\n",
       "length_of_service           0\n",
       "KPIs_met >80%               0\n",
       "awards_won?                 0\n",
       "avg_training_score          0\n",
       "is_promoted             23490\n",
       "dtype: int64"
      ]
     },
     "execution_count": 10,
     "metadata": {},
     "output_type": "execute_result"
    }
   ],
   "source": [
    "# Find null values\n",
    "hr1.isnull().sum()"
   ]
  },
  {
   "cell_type": "code",
   "execution_count": 11,
   "id": "6e0789f2",
   "metadata": {},
   "outputs": [
    {
     "data": {
      "text/plain": [
       "array([\"Master's & above\", \"Bachelor's\", nan, 'Below Secondary'],\n",
       "      dtype=object)"
      ]
     },
     "execution_count": 11,
     "metadata": {},
     "output_type": "execute_result"
    }
   ],
   "source": [
    "hr1['education'].unique()"
   ]
  },
  {
   "cell_type": "markdown",
   "id": "4b7eee22",
   "metadata": {},
   "source": [
    "observation:Education is not used to determine the promotion.Drop the coloumn."
   ]
  },
  {
   "cell_type": "code",
   "execution_count": 12,
   "id": "cf80b041",
   "metadata": {},
   "outputs": [],
   "source": [
    "hr1.drop(['education'],axis=1,inplace=True)"
   ]
  },
  {
   "cell_type": "code",
   "execution_count": 13,
   "id": "9b4d828c",
   "metadata": {},
   "outputs": [
    {
     "data": {
      "text/plain": [
       "Index(['employee_id', 'department', 'region', 'gender', 'recruitment_channel',\n",
       "       'no_of_trainings', 'age', 'previous_year_rating', 'length_of_service',\n",
       "       'KPIs_met >80%', 'awards_won?', 'avg_training_score', 'is_promoted'],\n",
       "      dtype='object')"
      ]
     },
     "execution_count": 13,
     "metadata": {},
     "output_type": "execute_result"
    }
   ],
   "source": [
    "hr1.columns"
   ]
  },
  {
   "cell_type": "code",
   "execution_count": 14,
   "id": "e075a5fe",
   "metadata": {},
   "outputs": [],
   "source": [
    "#Replacing the NaN values in the previous_rating_coloumn with 0.\n",
    "hr1['previous_year_rating'].fillna(0,inplace = True)"
   ]
  },
  {
   "cell_type": "code",
   "execution_count": 15,
   "id": "73da3860",
   "metadata": {},
   "outputs": [
    {
     "data": {
      "text/plain": [
       "employee_id                 0\n",
       "department                  0\n",
       "region                      0\n",
       "gender                      0\n",
       "recruitment_channel         0\n",
       "no_of_trainings             0\n",
       "age                         0\n",
       "previous_year_rating        0\n",
       "length_of_service           0\n",
       "KPIs_met >80%               0\n",
       "awards_won?                 0\n",
       "avg_training_score          0\n",
       "is_promoted             23490\n",
       "dtype: int64"
      ]
     },
     "execution_count": 15,
     "metadata": {},
     "output_type": "execute_result"
    }
   ],
   "source": [
    "hr1.isnull().sum()"
   ]
  },
  {
   "cell_type": "markdown",
   "id": "808687f1",
   "metadata": {},
   "source": [
    "Uni-Variate Analysis :"
   ]
  },
  {
   "cell_type": "code",
   "execution_count": 16,
   "id": "32eef0f0",
   "metadata": {},
   "outputs": [
    {
     "data": {
      "text/plain": [
       "Sales & Marketing    24155\n",
       "Operations           16112\n",
       "Procurement          10158\n",
       "Technology           10149\n",
       "Analytics             7671\n",
       "Finance               3627\n",
       "HR                    3503\n",
       "Legal                 1484\n",
       "R&D                   1439\n",
       "Name: department, dtype: int64"
      ]
     },
     "execution_count": 16,
     "metadata": {},
     "output_type": "execute_result"
    }
   ],
   "source": [
    "hr1['department'].value_counts()"
   ]
  },
  {
   "cell_type": "code",
   "execution_count": 17,
   "id": "cca22c6b",
   "metadata": {},
   "outputs": [
    {
     "data": {
      "text/plain": [
       "region_2     17642\n",
       "region_22     9167\n",
       "region_7      6825\n",
       "region_15     3938\n",
       "region_13     3815\n",
       "region_26     3271\n",
       "region_31     2779\n",
       "region_4      2478\n",
       "region_27     2369\n",
       "region_16     2055\n",
       "region_28     1913\n",
       "region_11     1886\n",
       "region_23     1691\n",
       "region_29     1408\n",
       "region_32     1378\n",
       "region_19     1284\n",
       "region_14     1177\n",
       "region_20     1176\n",
       "region_17     1157\n",
       "region_25     1156\n",
       "region_5      1108\n",
       "region_6       988\n",
       "region_30      930\n",
       "region_8       924\n",
       "region_10      917\n",
       "region_1       848\n",
       "region_24      727\n",
       "region_12      715\n",
       "region_9       600\n",
       "region_21      590\n",
       "region_3       493\n",
       "region_34      447\n",
       "region_33      395\n",
       "region_18       51\n",
       "Name: region, dtype: int64"
      ]
     },
     "execution_count": 17,
     "metadata": {},
     "output_type": "execute_result"
    }
   ],
   "source": [
    "hr1['region'].value_counts()"
   ]
  },
  {
   "cell_type": "markdown",
   "id": "d0f0ee22",
   "metadata": {},
   "source": [
    "observation : region is not used to determine the promotion.Drop the coloumn."
   ]
  },
  {
   "cell_type": "code",
   "execution_count": 18,
   "id": "7a5532b7",
   "metadata": {},
   "outputs": [],
   "source": [
    "hr1.drop(['region'],axis=1,inplace=True)"
   ]
  },
  {
   "cell_type": "code",
   "execution_count": 19,
   "id": "5d49c408",
   "metadata": {},
   "outputs": [
    {
     "data": {
      "text/plain": [
       "Index(['employee_id', 'department', 'gender', 'recruitment_channel',\n",
       "       'no_of_trainings', 'age', 'previous_year_rating', 'length_of_service',\n",
       "       'KPIs_met >80%', 'awards_won?', 'avg_training_score', 'is_promoted'],\n",
       "      dtype='object')"
      ]
     },
     "execution_count": 19,
     "metadata": {},
     "output_type": "execute_result"
    }
   ],
   "source": [
    "hr1.columns"
   ]
  },
  {
   "cell_type": "code",
   "execution_count": 20,
   "id": "20fcf1dc",
   "metadata": {},
   "outputs": [
    {
     "data": {
      "text/plain": [
       "m    55092\n",
       "f    23206\n",
       "Name: gender, dtype: int64"
      ]
     },
     "execution_count": 20,
     "metadata": {},
     "output_type": "execute_result"
    }
   ],
   "source": [
    "hr1['gender'].value_counts()"
   ]
  },
  {
   "cell_type": "code",
   "execution_count": 21,
   "id": "32d8a5af",
   "metadata": {},
   "outputs": [
    {
     "data": {
      "text/plain": [
       "other       43524\n",
       "sourcing    33181\n",
       "referred     1593\n",
       "Name: recruitment_channel, dtype: int64"
      ]
     },
     "execution_count": 21,
     "metadata": {},
     "output_type": "execute_result"
    }
   ],
   "source": [
    "hr1['recruitment_channel'].value_counts()"
   ]
  },
  {
   "cell_type": "markdown",
   "id": "1ad235e2",
   "metadata": {},
   "source": [
    "observation : recruitment_channel is not used to determine the promotion.Drop the coloumn."
   ]
  },
  {
   "cell_type": "code",
   "execution_count": 22,
   "id": "69bd6fa3",
   "metadata": {},
   "outputs": [],
   "source": [
    "hr1.drop(['recruitment_channel'],axis=1,inplace=True)"
   ]
  },
  {
   "cell_type": "code",
   "execution_count": 23,
   "id": "89c16213",
   "metadata": {},
   "outputs": [
    {
     "data": {
      "text/plain": [
       "Index(['employee_id', 'department', 'gender', 'no_of_trainings', 'age',\n",
       "       'previous_year_rating', 'length_of_service', 'KPIs_met >80%',\n",
       "       'awards_won?', 'avg_training_score', 'is_promoted'],\n",
       "      dtype='object')"
      ]
     },
     "execution_count": 23,
     "metadata": {},
     "output_type": "execute_result"
    }
   ],
   "source": [
    "hr1.columns"
   ]
  },
  {
   "cell_type": "code",
   "execution_count": 24,
   "id": "c7254e9a",
   "metadata": {},
   "outputs": [
    {
     "data": {
      "text/plain": [
       "1     63306\n",
       "2     11531\n",
       "3      2531\n",
       "4       658\n",
       "5       164\n",
       "6        68\n",
       "7        21\n",
       "8         7\n",
       "9         7\n",
       "10        5\n",
       "Name: no_of_trainings, dtype: int64"
      ]
     },
     "execution_count": 24,
     "metadata": {},
     "output_type": "execute_result"
    }
   ],
   "source": [
    "hr1['no_of_trainings'].value_counts()"
   ]
  },
  {
   "cell_type": "code",
   "execution_count": 25,
   "id": "20892ea3",
   "metadata": {},
   "outputs": [
    {
     "data": {
      "text/plain": [
       "array([ 1,  2,  3,  4,  7,  5,  6,  8, 10,  9], dtype=int64)"
      ]
     },
     "execution_count": 25,
     "metadata": {},
     "output_type": "execute_result"
    }
   ],
   "source": [
    "hr1['no_of_trainings'].unique()"
   ]
  },
  {
   "cell_type": "code",
   "execution_count": 26,
   "id": "d74ea627",
   "metadata": {},
   "outputs": [
    {
     "data": {
      "text/plain": [
       "<AxesSubplot:xlabel='no_of_trainings'>"
      ]
     },
     "execution_count": 26,
     "metadata": {},
     "output_type": "execute_result"
    },
    {
     "data": {
      "image/png": "[encoded data removed]",
      "text/plain": [
       "<Figure size 432x288 with 1 Axes>"
      ]
     },
     "metadata": {
      "needs_background": "light"
     },
     "output_type": "display_data"
    }
   ],
   "source": [
    "import seaborn as sns\n",
    "sns.boxplot(hr1.no_of_trainings)"
   ]
  },
  {
   "cell_type": "code",
   "execution_count": 27,
   "id": "9020a8d9",
   "metadata": {},
   "outputs": [
    {
     "data": {
      "text/plain": [
       "Text(0, 0.5, 'no_of_trainings')"
      ]
     },
     "execution_count": 27,
     "metadata": {},
     "output_type": "execute_result"
    },
    {
     "data": {
      "image/png": "[encoded data removed]",
      "text/plain": [
       "<Figure size 432x288 with 1 Axes>"
      ]
     },
     "metadata": {
      "needs_background": "light"
     },
     "output_type": "display_data"
    }
   ],
   "source": [
    "figure=hr1.no_of_trainings.hist(bins=50)\n",
    "figure.set_title(\"no_of_trainings\")\n",
    "figure.set_xlabel(\"no_of_trainings\")\n",
    "figure.set_ylabel(\"no_of_trainings\")"
   ]
  },
  {
   "cell_type": "code",
   "execution_count": 28,
   "id": "ece52824",
   "metadata": {},
   "outputs": [
    {
     "data": {
      "image/png": "[encoded data removed]",
      "text/plain": [
       "<Figure size 432x288 with 1 Axes>"
      ]
     },
     "metadata": {
      "needs_background": "light"
     },
     "output_type": "display_data"
    }
   ],
   "source": [
    "figure=hr1.boxplot(column=\"no_of_trainings\")"
   ]
  },
  {
   "cell_type": "code",
   "execution_count": 29,
   "id": "edf71a80",
   "metadata": {},
   "outputs": [],
   "source": [
    "#### Intetquantile range to calculate the boundaries\n",
    "\n",
    "IQR=hr1.no_of_trainings.quantile(0.75)-hr1.no_of_trainings.quantile(0.25)"
   ]
  },
  {
   "cell_type": "code",
   "execution_count": 30,
   "id": "6f6da71b",
   "metadata": {},
   "outputs": [
    {
     "data": {
      "text/plain": [
       "0.0"
      ]
     },
     "execution_count": 30,
     "metadata": {},
     "output_type": "execute_result"
    }
   ],
   "source": [
    "IQR\n"
   ]
  },
  {
   "cell_type": "code",
   "execution_count": 31,
   "id": "2ab94053",
   "metadata": {},
   "outputs": [],
   "source": [
    "### Extreme outliers\n",
    "lower_bridge=hr1[\"no_of_trainings\"].quantile(0.25)-(IQR*3)\n",
    "upper_bridge=hr1[\"no_of_trainings\"].quantile(0.75)+(IQR*3)"
   ]
  },
  {
   "cell_type": "code",
   "execution_count": 32,
   "id": "67c10a2a",
   "metadata": {},
   "outputs": [
    {
     "data": {
      "text/plain": [
       "1.0"
      ]
     },
     "execution_count": 32,
     "metadata": {},
     "output_type": "execute_result"
    }
   ],
   "source": [
    "lower_bridge\n"
   ]
  },
  {
   "cell_type": "code",
   "execution_count": 33,
   "id": "3e5dafa9",
   "metadata": {},
   "outputs": [
    {
     "data": {
      "text/plain": [
       "1.0"
      ]
     },
     "execution_count": 33,
     "metadata": {},
     "output_type": "execute_result"
    }
   ],
   "source": [
    "upper_bridge"
   ]
  },
  {
   "cell_type": "code",
   "execution_count": 34,
   "id": "de42e31e",
   "metadata": {},
   "outputs": [
    {
     "data": {
      "text/plain": [
       "30    5260\n",
       "31    5060\n",
       "32    5015\n",
       "29    4861\n",
       "33    4597\n",
       "28    4509\n",
       "34    4397\n",
       "27    4061\n",
       "35    3880\n",
       "36    3539\n",
       "37    3064\n",
       "26    2917\n",
       "38    2785\n",
       "39    2446\n",
       "40    2338\n",
       "25    1885\n",
       "41    1874\n",
       "42    1624\n",
       "43    1427\n",
       "44    1203\n",
       "24    1181\n",
       "45    1063\n",
       "46     974\n",
       "47     813\n",
       "48     777\n",
       "50     726\n",
       "49     650\n",
       "23     642\n",
       "51     550\n",
       "53     518\n",
       "52     518\n",
       "54     452\n",
       "55     429\n",
       "56     385\n",
       "57     333\n",
       "22     329\n",
       "58     317\n",
       "60     306\n",
       "59     292\n",
       "20     164\n",
       "21     137\n",
       "Name: age, dtype: int64"
      ]
     },
     "execution_count": 34,
     "metadata": {},
     "output_type": "execute_result"
    }
   ],
   "source": [
    "hr1['age'].value_counts()"
   ]
  },
  {
   "cell_type": "code",
   "execution_count": 35,
   "id": "7593ab14",
   "metadata": {},
   "outputs": [
    {
     "data": {
      "text/plain": [
       "<AxesSubplot:xlabel='age'>"
      ]
     },
     "execution_count": 35,
     "metadata": {},
     "output_type": "execute_result"
    },
    {
     "data": {
      "image/png": "[encoded data removed]",
      "text/plain": [
       "<Figure size 432x288 with 1 Axes>"
      ]
     },
     "metadata": {
      "needs_background": "light"
     },
     "output_type": "display_data"
    }
   ],
   "source": [
    "sns.boxplot(hr1.age)"
   ]
  },
  {
   "cell_type": "code",
   "execution_count": 36,
   "id": "558a6484",
   "metadata": {},
   "outputs": [],
   "source": [
    "### sigma rule(Gaussion Distribution we will calculate the boundaries which differentiates the outliers)\n",
    "upper_boundary=hr1[\"age\"].mean()+3*hr1[\"age\"].std()\n",
    "lower_boundary=hr1[\"age\"].mean()-3*hr1[\"age\"].std()"
   ]
  },
  {
   "cell_type": "code",
   "execution_count": 37,
   "id": "f7cfe557",
   "metadata": {},
   "outputs": [
    {
     "data": {
      "text/plain": [
       "57.79540379175127"
      ]
     },
     "execution_count": 37,
     "metadata": {},
     "output_type": "execute_result"
    }
   ],
   "source": [
    "upper_boundary"
   ]
  },
  {
   "cell_type": "code",
   "execution_count": 38,
   "id": "887b994f",
   "metadata": {},
   "outputs": [
    {
     "data": {
      "text/plain": [
       "11.799834911663893"
      ]
     },
     "execution_count": 38,
     "metadata": {},
     "output_type": "execute_result"
    }
   ],
   "source": [
    "lower_boundary"
   ]
  },
  {
   "cell_type": "code",
   "execution_count": 39,
   "id": "7e6ddb59",
   "metadata": {},
   "outputs": [],
   "source": [
    "#### Intetquantile range to calculate the boundaries\n",
    "IQR=hr1.age.quantile(0.75)-hr1.age.quantile(0.25)"
   ]
  },
  {
   "cell_type": "code",
   "execution_count": 40,
   "id": "065ab686",
   "metadata": {},
   "outputs": [],
   "source": [
    "lower_bridge=hr1[\"age\"].quantile(0.25)-(IQR*1.5)\n",
    "upper_bridge=hr1[\"age\"].quantile(0.75)+(IQR*1.5)"
   ]
  },
  {
   "cell_type": "code",
   "execution_count": 41,
   "id": "f203df8b",
   "metadata": {},
   "outputs": [
    {
     "data": {
      "text/plain": [
       "14.0"
      ]
     },
     "execution_count": 41,
     "metadata": {},
     "output_type": "execute_result"
    }
   ],
   "source": [
    "lower_bridge"
   ]
  },
  {
   "cell_type": "code",
   "execution_count": 42,
   "id": "5875f95e",
   "metadata": {},
   "outputs": [
    {
     "data": {
      "text/plain": [
       "54.0"
      ]
     },
     "execution_count": 42,
     "metadata": {},
     "output_type": "execute_result"
    }
   ],
   "source": [
    "upper_bridge"
   ]
  },
  {
   "cell_type": "code",
   "execution_count": 43,
   "id": "e533bd73",
   "metadata": {},
   "outputs": [],
   "source": [
    "data=hr1.copy()"
   ]
  },
  {
   "cell_type": "code",
   "execution_count": 44,
   "id": "0ad62086",
   "metadata": {},
   "outputs": [],
   "source": [
    "data.loc[data[\"age\"]>54,\"age\"]=54"
   ]
  },
  {
   "cell_type": "code",
   "execution_count": 45,
   "id": "003108d3",
   "metadata": {},
   "outputs": [
    {
     "data": {
      "text/html": [
       "<div>\n",
       "<style scoped>\n",
       "    .dataframe tbody tr th:only-of-type {\n",
       "        vertical-align: middle;\n",
       "    }\n",
       "\n",
       "    .dataframe tbody tr th {\n",
       "        vertical-align: top;\n",
       "    }\n",
       "\n",
       "    .dataframe thead th {\n",
       "        text-align: right;\n",
       "    }\n",
       "</style>\n",
       "<table border=\"1\" class=\"dataframe\">\n",
       "  <thead>\n",
       "    <tr style=\"text-align: right;\">\n",
       "      <th></th>\n",
       "      <th>employee_id</th>\n",
       "      <th>department</th>\n",
       "      <th>gender</th>\n",
       "      <th>no_of_trainings</th>\n",
       "      <th>age</th>\n",
       "      <th>previous_year_rating</th>\n",
       "      <th>length_of_service</th>\n",
       "      <th>KPIs_met &gt;80%</th>\n",
       "      <th>awards_won?</th>\n",
       "      <th>avg_training_score</th>\n",
       "      <th>is_promoted</th>\n",
       "    </tr>\n",
       "  </thead>\n",
       "  <tbody>\n",
       "    <tr>\n",
       "      <th>0</th>\n",
       "      <td>65438</td>\n",
       "      <td>Sales &amp; Marketing</td>\n",
       "      <td>f</td>\n",
       "      <td>1</td>\n",
       "      <td>35</td>\n",
       "      <td>5.0</td>\n",
       "      <td>8</td>\n",
       "      <td>1</td>\n",
       "      <td>0</td>\n",
       "      <td>49</td>\n",
       "      <td>0.0</td>\n",
       "    </tr>\n",
       "    <tr>\n",
       "      <th>1</th>\n",
       "      <td>65141</td>\n",
       "      <td>Operations</td>\n",
       "      <td>m</td>\n",
       "      <td>1</td>\n",
       "      <td>30</td>\n",
       "      <td>5.0</td>\n",
       "      <td>4</td>\n",
       "      <td>0</td>\n",
       "      <td>0</td>\n",
       "      <td>60</td>\n",
       "      <td>0.0</td>\n",
       "    </tr>\n",
       "    <tr>\n",
       "      <th>2</th>\n",
       "      <td>7513</td>\n",
       "      <td>Sales &amp; Marketing</td>\n",
       "      <td>m</td>\n",
       "      <td>1</td>\n",
       "      <td>34</td>\n",
       "      <td>3.0</td>\n",
       "      <td>7</td>\n",
       "      <td>0</td>\n",
       "      <td>0</td>\n",
       "      <td>50</td>\n",
       "      <td>0.0</td>\n",
       "    </tr>\n",
       "    <tr>\n",
       "      <th>3</th>\n",
       "      <td>2542</td>\n",
       "      <td>Sales &amp; Marketing</td>\n",
       "      <td>m</td>\n",
       "      <td>2</td>\n",
       "      <td>39</td>\n",
       "      <td>1.0</td>\n",
       "      <td>10</td>\n",
       "      <td>0</td>\n",
       "      <td>0</td>\n",
       "      <td>50</td>\n",
       "      <td>0.0</td>\n",
       "    </tr>\n",
       "    <tr>\n",
       "      <th>4</th>\n",
       "      <td>48945</td>\n",
       "      <td>Technology</td>\n",
       "      <td>m</td>\n",
       "      <td>1</td>\n",
       "      <td>45</td>\n",
       "      <td>3.0</td>\n",
       "      <td>2</td>\n",
       "      <td>0</td>\n",
       "      <td>0</td>\n",
       "      <td>73</td>\n",
       "      <td>0.0</td>\n",
       "    </tr>\n",
       "    <tr>\n",
       "      <th>5</th>\n",
       "      <td>58896</td>\n",
       "      <td>Analytics</td>\n",
       "      <td>m</td>\n",
       "      <td>2</td>\n",
       "      <td>31</td>\n",
       "      <td>3.0</td>\n",
       "      <td>7</td>\n",
       "      <td>0</td>\n",
       "      <td>0</td>\n",
       "      <td>85</td>\n",
       "      <td>0.0</td>\n",
       "    </tr>\n",
       "    <tr>\n",
       "      <th>6</th>\n",
       "      <td>20379</td>\n",
       "      <td>Operations</td>\n",
       "      <td>f</td>\n",
       "      <td>1</td>\n",
       "      <td>31</td>\n",
       "      <td>3.0</td>\n",
       "      <td>5</td>\n",
       "      <td>0</td>\n",
       "      <td>0</td>\n",
       "      <td>59</td>\n",
       "      <td>0.0</td>\n",
       "    </tr>\n",
       "    <tr>\n",
       "      <th>7</th>\n",
       "      <td>16290</td>\n",
       "      <td>Operations</td>\n",
       "      <td>m</td>\n",
       "      <td>1</td>\n",
       "      <td>33</td>\n",
       "      <td>3.0</td>\n",
       "      <td>6</td>\n",
       "      <td>0</td>\n",
       "      <td>0</td>\n",
       "      <td>63</td>\n",
       "      <td>0.0</td>\n",
       "    </tr>\n",
       "    <tr>\n",
       "      <th>8</th>\n",
       "      <td>73202</td>\n",
       "      <td>Analytics</td>\n",
       "      <td>m</td>\n",
       "      <td>1</td>\n",
       "      <td>28</td>\n",
       "      <td>4.0</td>\n",
       "      <td>5</td>\n",
       "      <td>0</td>\n",
       "      <td>0</td>\n",
       "      <td>83</td>\n",
       "      <td>0.0</td>\n",
       "    </tr>\n",
       "    <tr>\n",
       "      <th>9</th>\n",
       "      <td>28911</td>\n",
       "      <td>Sales &amp; Marketing</td>\n",
       "      <td>m</td>\n",
       "      <td>1</td>\n",
       "      <td>32</td>\n",
       "      <td>5.0</td>\n",
       "      <td>5</td>\n",
       "      <td>1</td>\n",
       "      <td>0</td>\n",
       "      <td>54</td>\n",
       "      <td>0.0</td>\n",
       "    </tr>\n",
       "  </tbody>\n",
       "</table>\n",
       "</div>"
      ],
      "text/plain": [
       "   employee_id         department gender  no_of_trainings  age  \\\n",
       "0        65438  Sales & Marketing      f                1   35   \n",
       "1        65141         Operations      m                1   30   \n",
       "2         7513  Sales & Marketing      m                1   34   \n",
       "3         2542  Sales & Marketing      m                2   39   \n",
       "4        48945         Technology      m                1   45   \n",
       "5        58896          Analytics      m                2   31   \n",
       "6        20379         Operations      f                1   31   \n",
       "7        16290         Operations      m                1   33   \n",
       "8        73202          Analytics      m                1   28   \n",
       "9        28911  Sales & Marketing      m                1   32   \n",
       "\n",
       "   previous_year_rating  length_of_service  KPIs_met >80%  awards_won?  \\\n",
       "0                   5.0                  8              1            0   \n",
       "1                   5.0                  4              0            0   \n",
       "2                   3.0                  7              0            0   \n",
       "3                   1.0                 10              0            0   \n",
       "4                   3.0                  2              0            0   \n",
       "5                   3.0                  7              0            0   \n",
       "6                   3.0                  5              0            0   \n",
       "7                   3.0                  6              0            0   \n",
       "8                   4.0                  5              0            0   \n",
       "9                   5.0                  5              1            0   \n",
       "\n",
       "   avg_training_score  is_promoted  \n",
       "0                  49          0.0  \n",
       "1                  60          0.0  \n",
       "2                  50          0.0  \n",
       "3                  50          0.0  \n",
       "4                  73          0.0  \n",
       "5                  85          0.0  \n",
       "6                  59          0.0  \n",
       "7                  63          0.0  \n",
       "8                  83          0.0  \n",
       "9                  54          0.0  "
      ]
     },
     "execution_count": 45,
     "metadata": {},
     "output_type": "execute_result"
    }
   ],
   "source": [
    "data.head(10)"
   ]
  },
  {
   "cell_type": "code",
   "execution_count": 46,
   "id": "37cf728b",
   "metadata": {},
   "outputs": [
    {
     "data": {
      "text/plain": [
       "3.0    26539\n",
       "5.0    16838\n",
       "4.0    14126\n",
       "1.0     8903\n",
       "2.0     5956\n",
       "0.0     5936\n",
       "Name: previous_year_rating, dtype: int64"
      ]
     },
     "execution_count": 46,
     "metadata": {},
     "output_type": "execute_result"
    }
   ],
   "source": [
    "data['previous_year_rating'].value_counts()"
   ]
  },
  {
   "cell_type": "code",
   "execution_count": 47,
   "id": "62cdb641",
   "metadata": {},
   "outputs": [
    {
     "data": {
      "text/plain": [
       "<AxesSubplot:xlabel='previous_year_rating', ylabel='Density'>"
      ]
     },
     "execution_count": 47,
     "metadata": {},
     "output_type": "execute_result"
    },
    {
     "data": {
      "image/png": "[encoded data removed]",
      "text/plain": [
       "<Figure size 432x288 with 1 Axes>"
      ]
     },
     "metadata": {
      "needs_background": "light"
     },
     "output_type": "display_data"
    }
   ],
   "source": [
    "sns.distplot(data.previous_year_rating)"
   ]
  },
  {
   "cell_type": "code",
   "execution_count": 48,
   "id": "ee2f24dc",
   "metadata": {},
   "outputs": [
    {
     "data": {
      "text/plain": [
       "3     10066\n",
       "4      9747\n",
       "2      9554\n",
       "5      8424\n",
       "7      7895\n",
       "6      6772\n",
       "1      6539\n",
       "8      4146\n",
       "9      3699\n",
       "10     3134\n",
       "11     1268\n",
       "12     1122\n",
       "13      958\n",
       "15      833\n",
       "14      810\n",
       "16      760\n",
       "17      636\n",
       "18      558\n",
       "19      471\n",
       "20      190\n",
       "21      107\n",
       "23       96\n",
       "22       88\n",
       "24       88\n",
       "25       75\n",
       "26       55\n",
       "27       52\n",
       "28       42\n",
       "29       40\n",
       "31       27\n",
       "30       18\n",
       "32       11\n",
       "33       10\n",
       "34        6\n",
       "37        1\n",
       "Name: length_of_service, dtype: int64"
      ]
     },
     "execution_count": 48,
     "metadata": {},
     "output_type": "execute_result"
    }
   ],
   "source": [
    "data['length_of_service'].value_counts()"
   ]
  },
  {
   "cell_type": "code",
   "execution_count": 49,
   "id": "bfe5af49",
   "metadata": {},
   "outputs": [
    {
     "data": {
      "text/plain": [
       "<AxesSubplot:xlabel='length_of_service', ylabel='Density'>"
      ]
     },
     "execution_count": 49,
     "metadata": {},
     "output_type": "execute_result"
    },
    {
     "data": {
      "image/png": "[encoded data removed]",
      "text/plain": [
       "<Figure size 432x288 with 1 Axes>"
      ]
     },
     "metadata": {
      "needs_background": "light"
     },
     "output_type": "display_data"
    }
   ],
   "source": [
    "sns.distplot(data.length_of_service)"
   ]
  },
  {
   "cell_type": "code",
   "execution_count": 50,
   "id": "b85eb181",
   "metadata": {},
   "outputs": [
    {
     "data": {
      "text/plain": [
       "<AxesSubplot:xlabel='length_of_service'>"
      ]
     },
     "execution_count": 50,
     "metadata": {},
     "output_type": "execute_result"
    },
    {
     "data": {
      "image/png": "[encoded data removed]",
      "text/plain": [
       "<Figure size 432x288 with 1 Axes>"
      ]
     },
     "metadata": {
      "needs_background": "light"
     },
     "output_type": "display_data"
    }
   ],
   "source": [
    "sns.boxplot(data.length_of_service)"
   ]
  },
  {
   "cell_type": "code",
   "execution_count": 51,
   "id": "f1a2b91d",
   "metadata": {},
   "outputs": [],
   "source": [
    "#### Intetquantile range to calculate the boundaries\n",
    "\n",
    "IQR=data.length_of_service.quantile(0.75)-data.length_of_service.quantile(0.25)"
   ]
  },
  {
   "cell_type": "code",
   "execution_count": 52,
   "id": "6f13942d",
   "metadata": {},
   "outputs": [],
   "source": [
    "### Extreme outliers\n",
    "lower_bridge=data[\"length_of_service\"].quantile(0.25)-(IQR*3)\n",
    "upper_bridge=data[\"length_of_service\"].quantile(0.75)+(IQR*3)"
   ]
  },
  {
   "cell_type": "code",
   "execution_count": 53,
   "id": "5f6aac7a",
   "metadata": {},
   "outputs": [
    {
     "data": {
      "text/plain": [
       "-9.0"
      ]
     },
     "execution_count": 53,
     "metadata": {},
     "output_type": "execute_result"
    }
   ],
   "source": [
    "lower_bridge"
   ]
  },
  {
   "cell_type": "code",
   "execution_count": 54,
   "id": "91db5ad8",
   "metadata": {},
   "outputs": [
    {
     "data": {
      "text/plain": [
       "19.0"
      ]
     },
     "execution_count": 54,
     "metadata": {},
     "output_type": "execute_result"
    }
   ],
   "source": [
    "upper_bridge"
   ]
  },
  {
   "cell_type": "code",
   "execution_count": 55,
   "id": "f6b185de",
   "metadata": {},
   "outputs": [],
   "source": [
    "data.loc[data[\"length_of_service\"]>19,\"length_of_service\"]=19"
   ]
  },
  {
   "cell_type": "code",
   "execution_count": 56,
   "id": "4a503728",
   "metadata": {},
   "outputs": [
    {
     "data": {
      "text/plain": [
       "<AxesSubplot:xlabel='length_of_service'>"
      ]
     },
     "execution_count": 56,
     "metadata": {},
     "output_type": "execute_result"
    },
    {
     "data": {
      "image/png": "[encoded data removed]",
      "text/plain": [
       "<Figure size 432x288 with 1 Axes>"
      ]
     },
     "metadata": {
      "needs_background": "light"
     },
     "output_type": "display_data"
    }
   ],
   "source": [
    "sns.boxplot(data.length_of_service)"
   ]
  },
  {
   "cell_type": "code",
   "execution_count": 57,
   "id": "e8c392fe",
   "metadata": {},
   "outputs": [
    {
     "data": {
      "text/plain": [
       "0    50578\n",
       "1    27720\n",
       "Name: KPIs_met >80%, dtype: int64"
      ]
     },
     "execution_count": 57,
     "metadata": {},
     "output_type": "execute_result"
    }
   ],
   "source": [
    "data['KPIs_met >80%'].value_counts()"
   ]
  },
  {
   "cell_type": "code",
   "execution_count": 58,
   "id": "6cefe3e8",
   "metadata": {},
   "outputs": [
    {
     "data": {
      "text/plain": [
       "0    76493\n",
       "1     1805\n",
       "Name: awards_won?, dtype: int64"
      ]
     },
     "execution_count": 58,
     "metadata": {},
     "output_type": "execute_result"
    }
   ],
   "source": [
    "data['awards_won?'].value_counts()"
   ]
  },
  {
   "cell_type": "code",
   "execution_count": 59,
   "id": "06a1a1db",
   "metadata": {},
   "outputs": [
    {
     "data": {
      "text/plain": [
       "50    3943\n",
       "49    3825\n",
       "48    3521\n",
       "51    3370\n",
       "60    3044\n",
       "      ... \n",
       "98      51\n",
       "99      48\n",
       "41      37\n",
       "40       8\n",
       "39       3\n",
       "Name: avg_training_score, Length: 61, dtype: int64"
      ]
     },
     "execution_count": 59,
     "metadata": {},
     "output_type": "execute_result"
    }
   ],
   "source": [
    "data['avg_training_score'].value_counts()"
   ]
  },
  {
   "cell_type": "code",
   "execution_count": 60,
   "id": "8e62e4a7",
   "metadata": {},
   "outputs": [
    {
     "data": {
      "text/plain": [
       "<AxesSubplot:xlabel='avg_training_score', ylabel='Density'>"
      ]
     },
     "execution_count": 60,
     "metadata": {},
     "output_type": "execute_result"
    },
    {
     "data": {
      "image/png": "[encoded data removed]",
      "text/plain": [
       "<Figure size 432x288 with 1 Axes>"
      ]
     },
     "metadata": {
      "needs_background": "light"
     },
     "output_type": "display_data"
    }
   ],
   "source": [
    "sns.distplot(data.avg_training_score)"
   ]
  },
  {
   "cell_type": "code",
   "execution_count": 61,
   "id": "607fa99a",
   "metadata": {},
   "outputs": [
    {
     "data": {
      "text/plain": [
       "<AxesSubplot:xlabel='avg_training_score'>"
      ]
     },
     "execution_count": 61,
     "metadata": {},
     "output_type": "execute_result"
    },
    {
     "data": {
      "image/png": "[encoded data removed]",
      "text/plain": [
       "<Figure size 432x288 with 1 Axes>"
      ]
     },
     "metadata": {
      "needs_background": "light"
     },
     "output_type": "display_data"
    }
   ],
   "source": [
    "sns.boxplot(data.avg_training_score)"
   ]
  },
  {
   "cell_type": "code",
   "execution_count": 62,
   "id": "5dda8e35",
   "metadata": {},
   "outputs": [
    {
     "data": {
      "text/plain": [
       "0.0    50140\n",
       "1.0     4668\n",
       "Name: is_promoted, dtype: int64"
      ]
     },
     "execution_count": 62,
     "metadata": {},
     "output_type": "execute_result"
    }
   ],
   "source": [
    "# checkig the no. of Employees Promoted\n",
    "# hr['is_promoted'].value_counts(normalize=True)\n",
    "data['is_promoted'].value_counts()"
   ]
  },
  {
   "cell_type": "code",
   "execution_count": 63,
   "id": "b4e79d4c",
   "metadata": {},
   "outputs": [
    {
     "name": "stdout",
     "output_type": "stream",
     "text": [
      "Percentage of Promoted Employees is 8.52%\n"
     ]
    }
   ],
   "source": [
    "# finding the %age of people promoted\n",
    "\n",
    "promoted = (4668/54808)*100\n",
    "print(\"Percentage of Promoted Employees is {:.2f}%\".format(promoted))"
   ]
  },
  {
   "cell_type": "code",
   "execution_count": 64,
   "id": "bbf3a64e",
   "metadata": {},
   "outputs": [
    {
     "data": {
      "text/plain": [
       "Index(['employee_id', 'department', 'gender', 'no_of_trainings', 'age',\n",
       "       'previous_year_rating', 'length_of_service', 'KPIs_met >80%',\n",
       "       'awards_won?', 'avg_training_score', 'is_promoted'],\n",
       "      dtype='object')"
      ]
     },
     "execution_count": 64,
     "metadata": {},
     "output_type": "execute_result"
    }
   ],
   "source": [
    "data.columns"
   ]
  },
  {
   "cell_type": "code",
   "execution_count": 65,
   "id": "bf69ed25",
   "metadata": {},
   "outputs": [],
   "source": [
    "data1=pd.get_dummies(data,drop_first=True)"
   ]
  },
  {
   "cell_type": "code",
   "execution_count": 66,
   "id": "34f13146",
   "metadata": {},
   "outputs": [
    {
     "data": {
      "text/plain": [
       "Index(['employee_id', 'no_of_trainings', 'age', 'previous_year_rating',\n",
       "       'length_of_service', 'KPIs_met >80%', 'awards_won?',\n",
       "       'avg_training_score', 'is_promoted', 'department_Finance',\n",
       "       'department_HR', 'department_Legal', 'department_Operations',\n",
       "       'department_Procurement', 'department_R&D',\n",
       "       'department_Sales & Marketing', 'department_Technology', 'gender_m'],\n",
       "      dtype='object')"
      ]
     },
     "execution_count": 66,
     "metadata": {},
     "output_type": "execute_result"
    }
   ],
   "source": [
    "data1.columns"
   ]
  },
  {
   "cell_type": "code",
   "execution_count": 67,
   "id": "ace9eed2",
   "metadata": {},
   "outputs": [
    {
     "name": "stdout",
     "output_type": "stream",
     "text": [
      "<class 'pandas.core.frame.DataFrame'>\n",
      "Int64Index: 78298 entries, 0 to 23489\n",
      "Data columns (total 18 columns):\n",
      " #   Column                        Non-Null Count  Dtype  \n",
      "---  ------                        --------------  -----  \n",
      " 0   employee_id                   78298 non-null  int64  \n",
      " 1   no_of_trainings               78298 non-null  int64  \n",
      " 2   age                           78298 non-null  int64  \n",
      " 3   previous_year_rating          78298 non-null  float64\n",
      " 4   length_of_service             78298 non-null  int64  \n",
      " 5   KPIs_met >80%                 78298 non-null  int64  \n",
      " 6   awards_won?                   78298 non-null  int64  \n",
      " 7   avg_training_score            78298 non-null  int64  \n",
      " 8   is_promoted                   54808 non-null  float64\n",
      " 9   department_Finance            78298 non-null  uint8  \n",
      " 10  department_HR                 78298 non-null  uint8  \n",
      " 11  department_Legal              78298 non-null  uint8  \n",
      " 12  department_Operations         78298 non-null  uint8  \n",
      " 13  department_Procurement        78298 non-null  uint8  \n",
      " 14  department_R&D                78298 non-null  uint8  \n",
      " 15  department_Sales & Marketing  78298 non-null  uint8  \n",
      " 16  department_Technology         78298 non-null  uint8  \n",
      " 17  gender_m                      78298 non-null  uint8  \n",
      "dtypes: float64(2), int64(7), uint8(9)\n",
      "memory usage: 6.6 MB\n"
     ]
    }
   ],
   "source": [
    "data1.info()"
   ]
  },
  {
   "cell_type": "code",
   "execution_count": 68,
   "id": "413f0fd0",
   "metadata": {},
   "outputs": [],
   "source": [
    "### convert object into integers\n",
    "data1[\"department_Finance\"]=data1[\"department_Finance\"].astype(int)\n",
    "data1[\"department_HR\"]=data1[\"department_HR\"].astype(int)\n",
    "data1[\"department_Legal\"]=data1[\"department_Legal\"].astype(int)\n",
    "data1[\"department_Operations\"]=data1[\"department_Operations\"].astype(int)\n",
    "data1[\"department_Procurement\"]=data1[\"department_Procurement\"].astype(int)\n",
    "data1[\"department_R&D\"]=data1[\"department_R&D\"].astype(int)\n",
    "data1[\"department_Sales & Marketing\"]=data1[\"department_Sales & Marketing\"].astype(int)\n",
    "data1[\"department_Technology\"]=data1[\"department_Technology\"].astype(int)\n",
    "\n",
    "data1[\"gender_m \"]=data1[\"gender_m\"].astype(int)"
   ]
  },
  {
   "cell_type": "code",
   "execution_count": 69,
   "id": "c048805c",
   "metadata": {},
   "outputs": [
    {
     "data": {
      "text/plain": [
       "employee_id                         0\n",
       "no_of_trainings                     0\n",
       "age                                 0\n",
       "previous_year_rating                0\n",
       "length_of_service                   0\n",
       "KPIs_met >80%                       0\n",
       "awards_won?                         0\n",
       "avg_training_score                  0\n",
       "is_promoted                     23490\n",
       "department_Finance                  0\n",
       "department_HR                       0\n",
       "department_Legal                    0\n",
       "department_Operations               0\n",
       "department_Procurement              0\n",
       "department_R&D                      0\n",
       "department_Sales & Marketing        0\n",
       "department_Technology               0\n",
       "gender_m                            0\n",
       "gender_m                            0\n",
       "dtype: int64"
      ]
     },
     "execution_count": 69,
     "metadata": {},
     "output_type": "execute_result"
    }
   ],
   "source": [
    "data1.isnull().sum()"
   ]
  },
  {
   "cell_type": "code",
   "execution_count": 70,
   "id": "3738ef92",
   "metadata": {},
   "outputs": [
    {
     "data": {
      "text/plain": [
       "(78298, 19)"
      ]
     },
     "execution_count": 70,
     "metadata": {},
     "output_type": "execute_result"
    }
   ],
   "source": [
    "data1.shape"
   ]
  },
  {
   "cell_type": "code",
   "execution_count": 71,
   "id": "d1a080c4",
   "metadata": {},
   "outputs": [],
   "source": [
    "test_cl=data1[data1['is_promoted'].isnull()]\n",
    "train_cl=data1[data1['is_promoted'].notnull()]"
   ]
  },
  {
   "cell_type": "code",
   "execution_count": 72,
   "id": "4b1d8523",
   "metadata": {},
   "outputs": [
    {
     "name": "stdout",
     "output_type": "stream",
     "text": [
      "(23490, 19)\n",
      "(54808, 19)\n"
     ]
    }
   ],
   "source": [
    "print(test_cl.shape)\n",
    "print(train_cl.shape)"
   ]
  },
  {
   "cell_type": "code",
   "execution_count": 73,
   "id": "29dbbece",
   "metadata": {},
   "outputs": [],
   "source": [
    "train_y=train_cl['is_promoted']\n",
    "train_x=train_cl.drop('is_promoted',axis=1)\n",
    "test_x=test_cl.drop('is_promoted',axis=1)\n",
    "y_test=test_cl['is_promoted']"
   ]
  },
  {
   "cell_type": "code",
   "execution_count": 74,
   "id": "4eafa34e",
   "metadata": {},
   "outputs": [
    {
     "data": {
      "text/plain": [
       "((54808,), (54808, 18), (23490, 18), (23490,))"
      ]
     },
     "execution_count": 74,
     "metadata": {},
     "output_type": "execute_result"
    }
   ],
   "source": [
    "train_y.shape,train_x.shape,test_x.shape,y_test.shape"
   ]
  },
  {
   "cell_type": "markdown",
   "id": "94ab6f43",
   "metadata": {},
   "source": [
    "Model1: Logistic Regression"
   ]
  },
  {
   "cell_type": "code",
   "execution_count": 75,
   "id": "5d21f28e",
   "metadata": {},
   "outputs": [
    {
     "data": {
      "text/plain": [
       "LogisticRegression()"
      ]
     },
     "execution_count": 75,
     "metadata": {},
     "output_type": "execute_result"
    }
   ],
   "source": [
    "from sklearn.linear_model import LogisticRegression\n",
    "model1=LogisticRegression()\n",
    "model1.fit(train_x,train_y)"
   ]
  },
  {
   "cell_type": "code",
   "execution_count": 76,
   "id": "12a5314b",
   "metadata": {},
   "outputs": [
    {
     "data": {
      "text/plain": [
       "array([[-6.62289584e-06, -1.82653790e-01, -1.21895461e-01,\n",
       "         3.46402870e-01,  7.20026324e-02,  3.26690416e-01,\n",
       "         1.04086663e-01,  1.13306824e-02, -1.19206357e-02,\n",
       "        -1.47181914e-02, -8.47165355e-03,  1.97331474e-02,\n",
       "         5.56178177e-03, -1.24826727e-02, -1.44456986e-02,\n",
       "        -6.13524121e-03, -7.52715828e-02, -7.52715828e-02]])"
      ]
     },
     "execution_count": 76,
     "metadata": {},
     "output_type": "execute_result"
    }
   ],
   "source": [
    "model1.coef_"
   ]
  },
  {
   "cell_type": "code",
   "execution_count": 77,
   "id": "0a72a8d3",
   "metadata": {},
   "outputs": [
    {
     "data": {
      "text/plain": [
       "array([-0.09021413])"
      ]
     },
     "execution_count": 77,
     "metadata": {},
     "output_type": "execute_result"
    }
   ],
   "source": [
    "model1.intercept_"
   ]
  },
  {
   "cell_type": "code",
   "execution_count": 78,
   "id": "45c8ea65",
   "metadata": {},
   "outputs": [],
   "source": [
    "# coef_data=pd.DataFrame(model1.coef_, train_x.columns, columns=['Coefficient'])\n",
    "# coef_data"
   ]
  },
  {
   "cell_type": "code",
   "execution_count": 79,
   "id": "705bdb73",
   "metadata": {},
   "outputs": [
    {
     "data": {
      "text/plain": [
       "employee_id                         0\n",
       "no_of_trainings                     0\n",
       "age                                 0\n",
       "previous_year_rating                0\n",
       "length_of_service                   0\n",
       "KPIs_met >80%                       0\n",
       "awards_won?                         0\n",
       "avg_training_score                  0\n",
       "is_promoted                     23490\n",
       "department_Finance                  0\n",
       "department_HR                       0\n",
       "department_Legal                    0\n",
       "department_Operations               0\n",
       "department_Procurement              0\n",
       "department_R&D                      0\n",
       "department_Sales & Marketing        0\n",
       "department_Technology               0\n",
       "gender_m                            0\n",
       "gender_m                            0\n",
       "dtype: int64"
      ]
     },
     "execution_count": 79,
     "metadata": {},
     "output_type": "execute_result"
    }
   ],
   "source": [
    "test_cl.isnull().sum()"
   ]
  },
  {
   "cell_type": "code",
   "execution_count": 80,
   "id": "8d75e3ef",
   "metadata": {},
   "outputs": [],
   "source": [
    "model1_pred=model1.predict(test_x)"
   ]
  },
  {
   "cell_type": "code",
   "execution_count": 81,
   "id": "98264c27",
   "metadata": {},
   "outputs": [
    {
     "data": {
      "text/plain": [
       "array([0., 0., 0., ..., 0., 0., 0.])"
      ]
     },
     "execution_count": 81,
     "metadata": {},
     "output_type": "execute_result"
    }
   ],
   "source": [
    "model1_pred"
   ]
  },
  {
   "cell_type": "markdown",
   "id": "9ceb69e6",
   "metadata": {},
   "source": [
    "Model 2: Decission tree classifier"
   ]
  },
  {
   "cell_type": "code",
   "execution_count": 83,
   "id": "f36c3c7b",
   "metadata": {},
   "outputs": [
    {
     "data": {
      "text/plain": [
       "DecisionTreeClassifier()"
      ]
     },
     "execution_count": 83,
     "metadata": {},
     "output_type": "execute_result"
    }
   ],
   "source": [
    "from sklearn.tree import DecisionTreeClassifier\n",
    "model2=DecisionTreeClassifier()\n",
    "model2.fit(train_x,train_y)"
   ]
  },
  {
   "cell_type": "code",
   "execution_count": 84,
   "id": "70e4e886",
   "metadata": {},
   "outputs": [],
   "source": [
    "# Make prediction on test data\n",
    "model2_pred=model2.predict(test_x)"
   ]
  },
  {
   "cell_type": "code",
   "execution_count": 85,
   "id": "a09d6e40",
   "metadata": {},
   "outputs": [
    {
     "data": {
      "text/plain": [
       "array([0., 0., 0., ..., 0., 0., 1.])"
      ]
     },
     "execution_count": 85,
     "metadata": {},
     "output_type": "execute_result"
    }
   ],
   "source": [
    "model2_pred"
   ]
  },
  {
   "cell_type": "code",
   "execution_count": 86,
   "id": "353c33b7",
   "metadata": {},
   "outputs": [
    {
     "data": {
      "text/plain": [
       "array([0., 0., 0., ..., 0., 0., 1.])"
      ]
     },
     "execution_count": 86,
     "metadata": {},
     "output_type": "execute_result"
    }
   ],
   "source": [
    "model2_pred"
   ]
  },
  {
   "cell_type": "code",
   "execution_count": 87,
   "id": "fb53ce59",
   "metadata": {},
   "outputs": [],
   "source": [
    "test_find=data[data1['is_promoted'].isnull()]"
   ]
  },
  {
   "cell_type": "code",
   "execution_count": 88,
   "id": "84285b35",
   "metadata": {},
   "outputs": [
    {
     "data": {
      "text/html": [
       "<div>\n",
       "<style scoped>\n",
       "    .dataframe tbody tr th:only-of-type {\n",
       "        vertical-align: middle;\n",
       "    }\n",
       "\n",
       "    .dataframe tbody tr th {\n",
       "        vertical-align: top;\n",
       "    }\n",
       "\n",
       "    .dataframe thead th {\n",
       "        text-align: right;\n",
       "    }\n",
       "</style>\n",
       "<table border=\"1\" class=\"dataframe\">\n",
       "  <thead>\n",
       "    <tr style=\"text-align: right;\">\n",
       "      <th></th>\n",
       "      <th>employee_id</th>\n",
       "      <th>department</th>\n",
       "      <th>gender</th>\n",
       "      <th>no_of_trainings</th>\n",
       "      <th>age</th>\n",
       "      <th>previous_year_rating</th>\n",
       "      <th>length_of_service</th>\n",
       "      <th>KPIs_met &gt;80%</th>\n",
       "      <th>awards_won?</th>\n",
       "      <th>avg_training_score</th>\n",
       "      <th>is_promoted</th>\n",
       "    </tr>\n",
       "  </thead>\n",
       "  <tbody>\n",
       "    <tr>\n",
       "      <th>0</th>\n",
       "      <td>8724</td>\n",
       "      <td>Technology</td>\n",
       "      <td>m</td>\n",
       "      <td>1</td>\n",
       "      <td>24</td>\n",
       "      <td>0.0</td>\n",
       "      <td>1</td>\n",
       "      <td>1</td>\n",
       "      <td>0</td>\n",
       "      <td>77</td>\n",
       "      <td>NaN</td>\n",
       "    </tr>\n",
       "    <tr>\n",
       "      <th>1</th>\n",
       "      <td>74430</td>\n",
       "      <td>HR</td>\n",
       "      <td>f</td>\n",
       "      <td>1</td>\n",
       "      <td>31</td>\n",
       "      <td>3.0</td>\n",
       "      <td>5</td>\n",
       "      <td>0</td>\n",
       "      <td>0</td>\n",
       "      <td>51</td>\n",
       "      <td>NaN</td>\n",
       "    </tr>\n",
       "    <tr>\n",
       "      <th>2</th>\n",
       "      <td>72255</td>\n",
       "      <td>Sales &amp; Marketing</td>\n",
       "      <td>m</td>\n",
       "      <td>1</td>\n",
       "      <td>31</td>\n",
       "      <td>1.0</td>\n",
       "      <td>4</td>\n",
       "      <td>0</td>\n",
       "      <td>0</td>\n",
       "      <td>47</td>\n",
       "      <td>NaN</td>\n",
       "    </tr>\n",
       "    <tr>\n",
       "      <th>3</th>\n",
       "      <td>38562</td>\n",
       "      <td>Procurement</td>\n",
       "      <td>f</td>\n",
       "      <td>3</td>\n",
       "      <td>31</td>\n",
       "      <td>2.0</td>\n",
       "      <td>9</td>\n",
       "      <td>0</td>\n",
       "      <td>0</td>\n",
       "      <td>65</td>\n",
       "      <td>NaN</td>\n",
       "    </tr>\n",
       "    <tr>\n",
       "      <th>4</th>\n",
       "      <td>64486</td>\n",
       "      <td>Finance</td>\n",
       "      <td>m</td>\n",
       "      <td>1</td>\n",
       "      <td>30</td>\n",
       "      <td>4.0</td>\n",
       "      <td>7</td>\n",
       "      <td>0</td>\n",
       "      <td>0</td>\n",
       "      <td>61</td>\n",
       "      <td>NaN</td>\n",
       "    </tr>\n",
       "    <tr>\n",
       "      <th>...</th>\n",
       "      <td>...</td>\n",
       "      <td>...</td>\n",
       "      <td>...</td>\n",
       "      <td>...</td>\n",
       "      <td>...</td>\n",
       "      <td>...</td>\n",
       "      <td>...</td>\n",
       "      <td>...</td>\n",
       "      <td>...</td>\n",
       "      <td>...</td>\n",
       "      <td>...</td>\n",
       "    </tr>\n",
       "    <tr>\n",
       "      <th>23485</th>\n",
       "      <td>53478</td>\n",
       "      <td>Legal</td>\n",
       "      <td>m</td>\n",
       "      <td>1</td>\n",
       "      <td>24</td>\n",
       "      <td>3.0</td>\n",
       "      <td>1</td>\n",
       "      <td>0</td>\n",
       "      <td>0</td>\n",
       "      <td>61</td>\n",
       "      <td>NaN</td>\n",
       "    </tr>\n",
       "    <tr>\n",
       "      <th>23486</th>\n",
       "      <td>25600</td>\n",
       "      <td>Technology</td>\n",
       "      <td>m</td>\n",
       "      <td>1</td>\n",
       "      <td>31</td>\n",
       "      <td>3.0</td>\n",
       "      <td>7</td>\n",
       "      <td>0</td>\n",
       "      <td>0</td>\n",
       "      <td>74</td>\n",
       "      <td>NaN</td>\n",
       "    </tr>\n",
       "    <tr>\n",
       "      <th>23487</th>\n",
       "      <td>45409</td>\n",
       "      <td>HR</td>\n",
       "      <td>f</td>\n",
       "      <td>1</td>\n",
       "      <td>26</td>\n",
       "      <td>4.0</td>\n",
       "      <td>4</td>\n",
       "      <td>0</td>\n",
       "      <td>0</td>\n",
       "      <td>50</td>\n",
       "      <td>NaN</td>\n",
       "    </tr>\n",
       "    <tr>\n",
       "      <th>23488</th>\n",
       "      <td>1186</td>\n",
       "      <td>Procurement</td>\n",
       "      <td>m</td>\n",
       "      <td>3</td>\n",
       "      <td>27</td>\n",
       "      <td>0.0</td>\n",
       "      <td>1</td>\n",
       "      <td>0</td>\n",
       "      <td>0</td>\n",
       "      <td>70</td>\n",
       "      <td>NaN</td>\n",
       "    </tr>\n",
       "    <tr>\n",
       "      <th>23489</th>\n",
       "      <td>5973</td>\n",
       "      <td>Technology</td>\n",
       "      <td>m</td>\n",
       "      <td>3</td>\n",
       "      <td>40</td>\n",
       "      <td>5.0</td>\n",
       "      <td>5</td>\n",
       "      <td>1</td>\n",
       "      <td>0</td>\n",
       "      <td>89</td>\n",
       "      <td>NaN</td>\n",
       "    </tr>\n",
       "  </tbody>\n",
       "</table>\n",
       "<p>23490 rows × 11 columns</p>\n",
       "</div>"
      ],
      "text/plain": [
       "       employee_id         department gender  no_of_trainings  age  \\\n",
       "0             8724         Technology      m                1   24   \n",
       "1            74430                 HR      f                1   31   \n",
       "2            72255  Sales & Marketing      m                1   31   \n",
       "3            38562        Procurement      f                3   31   \n",
       "4            64486            Finance      m                1   30   \n",
       "...            ...                ...    ...              ...  ...   \n",
       "23485        53478              Legal      m                1   24   \n",
       "23486        25600         Technology      m                1   31   \n",
       "23487        45409                 HR      f                1   26   \n",
       "23488         1186        Procurement      m                3   27   \n",
       "23489         5973         Technology      m                3   40   \n",
       "\n",
       "       previous_year_rating  length_of_service  KPIs_met >80%  awards_won?  \\\n",
       "0                       0.0                  1              1            0   \n",
       "1                       3.0                  5              0            0   \n",
       "2                       1.0                  4              0            0   \n",
       "3                       2.0                  9              0            0   \n",
       "4                       4.0                  7              0            0   \n",
       "...                     ...                ...            ...          ...   \n",
       "23485                   3.0                  1              0            0   \n",
       "23486                   3.0                  7              0            0   \n",
       "23487                   4.0                  4              0            0   \n",
       "23488                   0.0                  1              0            0   \n",
       "23489                   5.0                  5              1            0   \n",
       "\n",
       "       avg_training_score  is_promoted  \n",
       "0                      77          NaN  \n",
       "1                      51          NaN  \n",
       "2                      47          NaN  \n",
       "3                      65          NaN  \n",
       "4                      61          NaN  \n",
       "...                   ...          ...  \n",
       "23485                  61          NaN  \n",
       "23486                  74          NaN  \n",
       "23487                  50          NaN  \n",
       "23488                  70          NaN  \n",
       "23489                  89          NaN  \n",
       "\n",
       "[23490 rows x 11 columns]"
      ]
     },
     "execution_count": 88,
     "metadata": {},
     "output_type": "execute_result"
    }
   ],
   "source": [
    "test_find"
   ]
  },
  {
   "cell_type": "code",
   "execution_count": 89,
   "id": "b32d24da",
   "metadata": {},
   "outputs": [],
   "source": [
    "test_find=hr_data2[[\"employee_id\"]]"
   ]
  },
  {
   "cell_type": "code",
   "execution_count": 90,
   "id": "24d92871",
   "metadata": {},
   "outputs": [],
   "source": [
    "data_pred=pd.concat([test_find,pd.DataFrame(model2_pred)],axis=1)"
   ]
  },
  {
   "cell_type": "code",
   "execution_count": 91,
   "id": "918efe11",
   "metadata": {},
   "outputs": [
    {
     "data": {
      "text/html": [
       "<div>\n",
       "<style scoped>\n",
       "    .dataframe tbody tr th:only-of-type {\n",
       "        vertical-align: middle;\n",
       "    }\n",
       "\n",
       "    .dataframe tbody tr th {\n",
       "        vertical-align: top;\n",
       "    }\n",
       "\n",
       "    .dataframe thead th {\n",
       "        text-align: right;\n",
       "    }\n",
       "</style>\n",
       "<table border=\"1\" class=\"dataframe\">\n",
       "  <thead>\n",
       "    <tr style=\"text-align: right;\">\n",
       "      <th></th>\n",
       "      <th>employee_id</th>\n",
       "      <th>0</th>\n",
       "    </tr>\n",
       "  </thead>\n",
       "  <tbody>\n",
       "    <tr>\n",
       "      <th>0</th>\n",
       "      <td>8724</td>\n",
       "      <td>0.0</td>\n",
       "    </tr>\n",
       "    <tr>\n",
       "      <th>1</th>\n",
       "      <td>74430</td>\n",
       "      <td>0.0</td>\n",
       "    </tr>\n",
       "    <tr>\n",
       "      <th>2</th>\n",
       "      <td>72255</td>\n",
       "      <td>0.0</td>\n",
       "    </tr>\n",
       "    <tr>\n",
       "      <th>3</th>\n",
       "      <td>38562</td>\n",
       "      <td>1.0</td>\n",
       "    </tr>\n",
       "    <tr>\n",
       "      <th>4</th>\n",
       "      <td>64486</td>\n",
       "      <td>0.0</td>\n",
       "    </tr>\n",
       "    <tr>\n",
       "      <th>...</th>\n",
       "      <td>...</td>\n",
       "      <td>...</td>\n",
       "    </tr>\n",
       "    <tr>\n",
       "      <th>23485</th>\n",
       "      <td>53478</td>\n",
       "      <td>0.0</td>\n",
       "    </tr>\n",
       "    <tr>\n",
       "      <th>23486</th>\n",
       "      <td>25600</td>\n",
       "      <td>0.0</td>\n",
       "    </tr>\n",
       "    <tr>\n",
       "      <th>23487</th>\n",
       "      <td>45409</td>\n",
       "      <td>0.0</td>\n",
       "    </tr>\n",
       "    <tr>\n",
       "      <th>23488</th>\n",
       "      <td>1186</td>\n",
       "      <td>0.0</td>\n",
       "    </tr>\n",
       "    <tr>\n",
       "      <th>23489</th>\n",
       "      <td>5973</td>\n",
       "      <td>1.0</td>\n",
       "    </tr>\n",
       "  </tbody>\n",
       "</table>\n",
       "<p>23490 rows × 2 columns</p>\n",
       "</div>"
      ],
      "text/plain": [
       "       employee_id    0\n",
       "0             8724  0.0\n",
       "1            74430  0.0\n",
       "2            72255  0.0\n",
       "3            38562  1.0\n",
       "4            64486  0.0\n",
       "...            ...  ...\n",
       "23485        53478  0.0\n",
       "23486        25600  0.0\n",
       "23487        45409  0.0\n",
       "23488         1186  0.0\n",
       "23489         5973  1.0\n",
       "\n",
       "[23490 rows x 2 columns]"
      ]
     },
     "execution_count": 91,
     "metadata": {},
     "output_type": "execute_result"
    }
   ],
   "source": [
    "data_pred"
   ]
  },
  {
   "cell_type": "code",
   "execution_count": 92,
   "id": "1a2d959a",
   "metadata": {},
   "outputs": [],
   "source": [
    "data_pred.to_csv(\"hr.csv\",index=False)"
   ]
  },
  {
   "cell_type": "markdown",
   "id": "82d01c34",
   "metadata": {},
   "source": [
    "Model 3: Random Forest classifier"
   ]
  },
  {
   "cell_type": "code",
   "execution_count": 106,
   "id": "db248b84",
   "metadata": {},
   "outputs": [],
   "source": [
    "from sklearn.ensemble import RandomForestClassifier\n",
    "model3=RandomForestClassifier(n_estimators=20,random_state=0)\n",
    "model3.fit(train_x,train_y)\n",
    "model3_pred=model3.predict(test_x)"
   ]
  },
  {
   "cell_type": "code",
   "execution_count": 102,
   "id": "40b5eeef",
   "metadata": {},
   "outputs": [
    {
     "data": {
      "text/plain": [
       "array([0., 0., 0., ..., 0., 0., 1.])"
      ]
     },
     "execution_count": 102,
     "metadata": {},
     "output_type": "execute_result"
    }
   ],
   "source": [
    "model3_pred"
   ]
  },
  {
   "cell_type": "code",
   "execution_count": 103,
   "id": "754382c2",
   "metadata": {},
   "outputs": [],
   "source": [
    "# # Evaluating the algorithm\n",
    "# from sklearn.metrics import classification_report,confusion_matrix,accuracy_score\n",
    "# # \n",
    "# print(confusion_matrix(y_test,y_pred1))"
   ]
  },
  {
   "cell_type": "code",
   "execution_count": 107,
   "id": "97670cf8",
   "metadata": {},
   "outputs": [
    {
     "ename": "NameError",
     "evalue": "name 'y_pred1' is not defined",
     "output_type": "error",
     "traceback": [
      "\u001b[1;31m---------------------------------------------------------------------------\u001b[0m",
      "\u001b[1;31mNameError\u001b[0m                                 Traceback (most recent call last)",
      "\u001b[1;32m~\\AppData\\Local\\Temp/ipykernel_12980/2791989109.py\u001b[0m in \u001b[0;36m<module>\u001b[1;34m\u001b[0m\n\u001b[1;32m----> 1\u001b[1;33m \u001b[0mdata_pred1\u001b[0m\u001b[1;33m=\u001b[0m\u001b[0mpd\u001b[0m\u001b[1;33m.\u001b[0m\u001b[0mconcat\u001b[0m\u001b[1;33m(\u001b[0m\u001b[1;33m[\u001b[0m\u001b[0mtest_find\u001b[0m\u001b[1;33m,\u001b[0m\u001b[0mpd\u001b[0m\u001b[1;33m.\u001b[0m\u001b[0mDataFrame\u001b[0m\u001b[1;33m(\u001b[0m\u001b[0my_pred1\u001b[0m\u001b[1;33m)\u001b[0m\u001b[1;33m]\u001b[0m\u001b[1;33m,\u001b[0m\u001b[0maxis\u001b[0m\u001b[1;33m=\u001b[0m\u001b[1;36m1\u001b[0m\u001b[1;33m)\u001b[0m\u001b[1;33m\u001b[0m\u001b[1;33m\u001b[0m\u001b[0m\n\u001b[0m",
      "\u001b[1;31mNameError\u001b[0m: name 'y_pred1' is not defined"
     ]
    }
   ],
   "source": [
    "data_pred1=pd.concat([test_find,pd.DataFrame(y_pred1)],axis=1)"
   ]
  },
  {
   "cell_type": "code",
   "execution_count": 97,
   "id": "c8687d88",
   "metadata": {},
   "outputs": [
    {
     "ename": "NameError",
     "evalue": "name 'data_pred1' is not defined",
     "output_type": "error",
     "traceback": [
      "\u001b[1;31m---------------------------------------------------------------------------\u001b[0m",
      "\u001b[1;31mNameError\u001b[0m                                 Traceback (most recent call last)",
      "\u001b[1;32m~\\AppData\\Local\\Temp/ipykernel_12980/1419328734.py\u001b[0m in \u001b[0;36m<module>\u001b[1;34m\u001b[0m\n\u001b[1;32m----> 1\u001b[1;33m \u001b[0mdata_pred1\u001b[0m\u001b[1;33m\u001b[0m\u001b[1;33m\u001b[0m\u001b[0m\n\u001b[0m",
      "\u001b[1;31mNameError\u001b[0m: name 'data_pred1' is not defined"
     ]
    }
   ],
   "source": [
    "data_pred1"
   ]
  },
  {
   "cell_type": "markdown",
   "id": "e81c875e",
   "metadata": {},
   "source": [
    "Model 3: Random Forest classifier=25"
   ]
  },
  {
   "cell_type": "code",
   "execution_count": 108,
   "id": "4426c4f9",
   "metadata": {},
   "outputs": [],
   "source": [
    "from sklearn.ensemble import RandomForestClassifier\n",
    "regressor=RandomForestClassifier(n_estimators=15,random_state=0)\n",
    "regressor.fit(train_x,train_y)\n",
    "y_pred2=regressor.predict(test_x)"
   ]
  },
  {
   "cell_type": "code",
   "execution_count": 109,
   "id": "d2bb2bb4",
   "metadata": {},
   "outputs": [
    {
     "data": {
      "text/plain": [
       "array([0., 0., 0., ..., 0., 0., 1.])"
      ]
     },
     "execution_count": 109,
     "metadata": {},
     "output_type": "execute_result"
    }
   ],
   "source": [
    "y_pred2"
   ]
  },
  {
   "cell_type": "code",
   "execution_count": 110,
   "id": "d9128560",
   "metadata": {},
   "outputs": [],
   "source": [
    "data_pred2=pd.concat([test_find,pd.DataFrame(y_pred2)],axis=1)"
   ]
  },
  {
   "cell_type": "code",
   "execution_count": 111,
   "id": "67c9dc13",
   "metadata": {},
   "outputs": [
    {
     "data": {
      "text/html": [
       "<div>\n",
       "<style scoped>\n",
       "    .dataframe tbody tr th:only-of-type {\n",
       "        vertical-align: middle;\n",
       "    }\n",
       "\n",
       "    .dataframe tbody tr th {\n",
       "        vertical-align: top;\n",
       "    }\n",
       "\n",
       "    .dataframe thead th {\n",
       "        text-align: right;\n",
       "    }\n",
       "</style>\n",
       "<table border=\"1\" class=\"dataframe\">\n",
       "  <thead>\n",
       "    <tr style=\"text-align: right;\">\n",
       "      <th></th>\n",
       "      <th>employee_id</th>\n",
       "      <th>0</th>\n",
       "    </tr>\n",
       "  </thead>\n",
       "  <tbody>\n",
       "    <tr>\n",
       "      <th>0</th>\n",
       "      <td>8724</td>\n",
       "      <td>0.0</td>\n",
       "    </tr>\n",
       "    <tr>\n",
       "      <th>1</th>\n",
       "      <td>74430</td>\n",
       "      <td>0.0</td>\n",
       "    </tr>\n",
       "    <tr>\n",
       "      <th>2</th>\n",
       "      <td>72255</td>\n",
       "      <td>0.0</td>\n",
       "    </tr>\n",
       "    <tr>\n",
       "      <th>3</th>\n",
       "      <td>38562</td>\n",
       "      <td>0.0</td>\n",
       "    </tr>\n",
       "    <tr>\n",
       "      <th>4</th>\n",
       "      <td>64486</td>\n",
       "      <td>0.0</td>\n",
       "    </tr>\n",
       "    <tr>\n",
       "      <th>...</th>\n",
       "      <td>...</td>\n",
       "      <td>...</td>\n",
       "    </tr>\n",
       "    <tr>\n",
       "      <th>23485</th>\n",
       "      <td>53478</td>\n",
       "      <td>0.0</td>\n",
       "    </tr>\n",
       "    <tr>\n",
       "      <th>23486</th>\n",
       "      <td>25600</td>\n",
       "      <td>0.0</td>\n",
       "    </tr>\n",
       "    <tr>\n",
       "      <th>23487</th>\n",
       "      <td>45409</td>\n",
       "      <td>0.0</td>\n",
       "    </tr>\n",
       "    <tr>\n",
       "      <th>23488</th>\n",
       "      <td>1186</td>\n",
       "      <td>0.0</td>\n",
       "    </tr>\n",
       "    <tr>\n",
       "      <th>23489</th>\n",
       "      <td>5973</td>\n",
       "      <td>1.0</td>\n",
       "    </tr>\n",
       "  </tbody>\n",
       "</table>\n",
       "<p>23490 rows × 2 columns</p>\n",
       "</div>"
      ],
      "text/plain": [
       "       employee_id    0\n",
       "0             8724  0.0\n",
       "1            74430  0.0\n",
       "2            72255  0.0\n",
       "3            38562  0.0\n",
       "4            64486  0.0\n",
       "...            ...  ...\n",
       "23485        53478  0.0\n",
       "23486        25600  0.0\n",
       "23487        45409  0.0\n",
       "23488         1186  0.0\n",
       "23489         5973  1.0\n",
       "\n",
       "[23490 rows x 2 columns]"
      ]
     },
     "execution_count": 111,
     "metadata": {},
     "output_type": "execute_result"
    }
   ],
   "source": [
    "data_pred2"
   ]
  },
  {
   "cell_type": "code",
   "execution_count": 112,
   "id": "6c864dbd",
   "metadata": {},
   "outputs": [],
   "source": [
    "data_pred.to_csv(\"randforest18_pred.csv\",index=False)"
   ]
  },
  {
   "cell_type": "markdown",
   "id": "5c0ce9d0",
   "metadata": {},
   "source": [
    "Model 4-KNN Algoritham"
   ]
  },
  {
   "cell_type": "code",
   "execution_count": 113,
   "id": "fb40a398",
   "metadata": {},
   "outputs": [
    {
     "data": {
      "text/plain": [
       "KNeighborsRegressor(n_neighbors=3)"
      ]
     },
     "execution_count": 113,
     "metadata": {},
     "output_type": "execute_result"
    }
   ],
   "source": [
    "from sklearn.neighbors import KNeighborsRegressor\n",
    ">>> knn_model = KNeighborsRegressor(n_neighbors=3)\n",
    "knn_model.fit(train_x,train_y)"
   ]
  },
  {
   "cell_type": "code",
   "execution_count": 114,
   "id": "40cfa196",
   "metadata": {},
   "outputs": [],
   "source": [
    "from sklearn.metrics import mean_squared_error\n",
    "from math import sqrt\n",
    "train_preds = knn_model.predict(test_x)"
   ]
  },
  {
   "cell_type": "code",
   "execution_count": 115,
   "id": "8755faae",
   "metadata": {},
   "outputs": [
    {
     "data": {
      "text/plain": [
       "array([0.        , 0.        , 0.        , ..., 0.33333333, 0.33333333,\n",
       "       0.33333333])"
      ]
     },
     "execution_count": 115,
     "metadata": {},
     "output_type": "execute_result"
    }
   ],
   "source": [
    "train_preds"
   ]
  },
  {
   "cell_type": "code",
   "execution_count": 116,
   "id": "f698d506",
   "metadata": {},
   "outputs": [],
   "source": [
    "knn_pred1=pd.concat([test_find,round(pd.DataFrame(train_preds),1)],axis=1)"
   ]
  },
  {
   "cell_type": "code",
   "execution_count": 117,
   "id": "497707fb",
   "metadata": {},
   "outputs": [
    {
     "data": {
      "text/html": [
       "<div>\n",
       "<style scoped>\n",
       "    .dataframe tbody tr th:only-of-type {\n",
       "        vertical-align: middle;\n",
       "    }\n",
       "\n",
       "    .dataframe tbody tr th {\n",
       "        vertical-align: top;\n",
       "    }\n",
       "\n",
       "    .dataframe thead th {\n",
       "        text-align: right;\n",
       "    }\n",
       "</style>\n",
       "<table border=\"1\" class=\"dataframe\">\n",
       "  <thead>\n",
       "    <tr style=\"text-align: right;\">\n",
       "      <th></th>\n",
       "      <th>employee_id</th>\n",
       "      <th>0</th>\n",
       "    </tr>\n",
       "  </thead>\n",
       "  <tbody>\n",
       "    <tr>\n",
       "      <th>0</th>\n",
       "      <td>8724</td>\n",
       "      <td>0.0</td>\n",
       "    </tr>\n",
       "    <tr>\n",
       "      <th>1</th>\n",
       "      <td>74430</td>\n",
       "      <td>0.0</td>\n",
       "    </tr>\n",
       "    <tr>\n",
       "      <th>2</th>\n",
       "      <td>72255</td>\n",
       "      <td>0.0</td>\n",
       "    </tr>\n",
       "    <tr>\n",
       "      <th>3</th>\n",
       "      <td>38562</td>\n",
       "      <td>0.7</td>\n",
       "    </tr>\n",
       "    <tr>\n",
       "      <th>4</th>\n",
       "      <td>64486</td>\n",
       "      <td>0.3</td>\n",
       "    </tr>\n",
       "    <tr>\n",
       "      <th>...</th>\n",
       "      <td>...</td>\n",
       "      <td>...</td>\n",
       "    </tr>\n",
       "    <tr>\n",
       "      <th>23485</th>\n",
       "      <td>53478</td>\n",
       "      <td>0.0</td>\n",
       "    </tr>\n",
       "    <tr>\n",
       "      <th>23486</th>\n",
       "      <td>25600</td>\n",
       "      <td>0.0</td>\n",
       "    </tr>\n",
       "    <tr>\n",
       "      <th>23487</th>\n",
       "      <td>45409</td>\n",
       "      <td>0.3</td>\n",
       "    </tr>\n",
       "    <tr>\n",
       "      <th>23488</th>\n",
       "      <td>1186</td>\n",
       "      <td>0.3</td>\n",
       "    </tr>\n",
       "    <tr>\n",
       "      <th>23489</th>\n",
       "      <td>5973</td>\n",
       "      <td>0.3</td>\n",
       "    </tr>\n",
       "  </tbody>\n",
       "</table>\n",
       "<p>23490 rows × 2 columns</p>\n",
       "</div>"
      ],
      "text/plain": [
       "       employee_id    0\n",
       "0             8724  0.0\n",
       "1            74430  0.0\n",
       "2            72255  0.0\n",
       "3            38562  0.7\n",
       "4            64486  0.3\n",
       "...            ...  ...\n",
       "23485        53478  0.0\n",
       "23486        25600  0.0\n",
       "23487        45409  0.3\n",
       "23488         1186  0.3\n",
       "23489         5973  0.3\n",
       "\n",
       "[23490 rows x 2 columns]"
      ]
     },
     "execution_count": 117,
     "metadata": {},
     "output_type": "execute_result"
    }
   ],
   "source": [
    "knn_pred1"
   ]
  },
  {
   "cell_type": "code",
   "execution_count": 118,
   "id": "03b768c6",
   "metadata": {},
   "outputs": [],
   "source": [
    "knn_pred1.to_csv(\"knn_pred1.csv\",index=False)"
   ]
  },
  {
   "cell_type": "markdown",
   "id": "b12f2831",
   "metadata": {},
   "source": [
    "model 4 :Naivy baiyes"
   ]
  },
  {
   "cell_type": "code",
   "execution_count": 119,
   "id": "8de5066a",
   "metadata": {},
   "outputs": [],
   "source": [
    "from sklearn.naive_bayes import GaussianNB\n",
    "gnb = GaussianNB()\n",
    "nb = gnb.fit(train_x, train_y)"
   ]
  },
  {
   "cell_type": "code",
   "execution_count": 120,
   "id": "e68ca2c7",
   "metadata": {},
   "outputs": [],
   "source": [
    "y_pred2=nb.predict(test_x)"
   ]
  },
  {
   "cell_type": "code",
   "execution_count": 121,
   "id": "5bfff312",
   "metadata": {},
   "outputs": [
    {
     "data": {
      "text/plain": [
       "array([0., 0., 0., ..., 0., 0., 0.])"
      ]
     },
     "execution_count": 121,
     "metadata": {},
     "output_type": "execute_result"
    }
   ],
   "source": [
    "y_pred2"
   ]
  },
  {
   "cell_type": "code",
   "execution_count": 122,
   "id": "9e45f679",
   "metadata": {},
   "outputs": [],
   "source": [
    "nb_pred1=pd.concat([test_find,round(pd.DataFrame(y_pred2),1)],axis=1)"
   ]
  },
  {
   "cell_type": "code",
   "execution_count": 123,
   "id": "3f69bfc4",
   "metadata": {},
   "outputs": [
    {
     "data": {
      "text/html": [
       "<div>\n",
       "<style scoped>\n",
       "    .dataframe tbody tr th:only-of-type {\n",
       "        vertical-align: middle;\n",
       "    }\n",
       "\n",
       "    .dataframe tbody tr th {\n",
       "        vertical-align: top;\n",
       "    }\n",
       "\n",
       "    .dataframe thead th {\n",
       "        text-align: right;\n",
       "    }\n",
       "</style>\n",
       "<table border=\"1\" class=\"dataframe\">\n",
       "  <thead>\n",
       "    <tr style=\"text-align: right;\">\n",
       "      <th></th>\n",
       "      <th>employee_id</th>\n",
       "      <th>0</th>\n",
       "    </tr>\n",
       "  </thead>\n",
       "  <tbody>\n",
       "    <tr>\n",
       "      <th>0</th>\n",
       "      <td>8724</td>\n",
       "      <td>0.0</td>\n",
       "    </tr>\n",
       "    <tr>\n",
       "      <th>1</th>\n",
       "      <td>74430</td>\n",
       "      <td>0.0</td>\n",
       "    </tr>\n",
       "    <tr>\n",
       "      <th>2</th>\n",
       "      <td>72255</td>\n",
       "      <td>0.0</td>\n",
       "    </tr>\n",
       "    <tr>\n",
       "      <th>3</th>\n",
       "      <td>38562</td>\n",
       "      <td>0.0</td>\n",
       "    </tr>\n",
       "    <tr>\n",
       "      <th>4</th>\n",
       "      <td>64486</td>\n",
       "      <td>0.0</td>\n",
       "    </tr>\n",
       "    <tr>\n",
       "      <th>...</th>\n",
       "      <td>...</td>\n",
       "      <td>...</td>\n",
       "    </tr>\n",
       "    <tr>\n",
       "      <th>23485</th>\n",
       "      <td>53478</td>\n",
       "      <td>0.0</td>\n",
       "    </tr>\n",
       "    <tr>\n",
       "      <th>23486</th>\n",
       "      <td>25600</td>\n",
       "      <td>0.0</td>\n",
       "    </tr>\n",
       "    <tr>\n",
       "      <th>23487</th>\n",
       "      <td>45409</td>\n",
       "      <td>0.0</td>\n",
       "    </tr>\n",
       "    <tr>\n",
       "      <th>23488</th>\n",
       "      <td>1186</td>\n",
       "      <td>0.0</td>\n",
       "    </tr>\n",
       "    <tr>\n",
       "      <th>23489</th>\n",
       "      <td>5973</td>\n",
       "      <td>0.0</td>\n",
       "    </tr>\n",
       "  </tbody>\n",
       "</table>\n",
       "<p>23490 rows × 2 columns</p>\n",
       "</div>"
      ],
      "text/plain": [
       "       employee_id    0\n",
       "0             8724  0.0\n",
       "1            74430  0.0\n",
       "2            72255  0.0\n",
       "3            38562  0.0\n",
       "4            64486  0.0\n",
       "...            ...  ...\n",
       "23485        53478  0.0\n",
       "23486        25600  0.0\n",
       "23487        45409  0.0\n",
       "23488         1186  0.0\n",
       "23489         5973  0.0\n",
       "\n",
       "[23490 rows x 2 columns]"
      ]
     },
     "execution_count": 123,
     "metadata": {},
     "output_type": "execute_result"
    }
   ],
   "source": [
    "nb_pred1"
   ]
  },
  {
   "cell_type": "code",
   "execution_count": 124,
   "id": "1404fd98",
   "metadata": {},
   "outputs": [],
   "source": [
    "nb_pred1.to_csv(\"nb_pred1.csv\",index=False)"
   ]
  },
  {
   "cell_type": "markdown",
   "id": "ffe0b143",
   "metadata": {},
   "source": [
    "VotingClassifier"
   ]
  },
  {
   "cell_type": "code",
   "execution_count": 125,
   "id": "a437de42",
   "metadata": {},
   "outputs": [
    {
     "data": {
      "text/plain": [
       "VotingClassifier(estimators=[('lr', LogisticRegression()),\n",
       "                             ('dt', DecisionTreeClassifier()),\n",
       "                             ('rf',\n",
       "                              RandomForestClassifier(n_estimators=20,\n",
       "                                                     random_state=0))])"
      ]
     },
     "execution_count": 125,
     "metadata": {},
     "output_type": "execute_result"
    }
   ],
   "source": [
    "from sklearn.ensemble import VotingClassifier\n",
    "model=VotingClassifier(estimators=[('lr',model1),('dt',model2),('rf',model3)],voting='hard')\n",
    "model.fit(train_x, train_y)\n",
    "# model.score(test_x,y_test)"
   ]
  },
  {
   "cell_type": "code",
   "execution_count": 126,
   "id": "a5cf1bbe",
   "metadata": {},
   "outputs": [],
   "source": [
    "final_pred2=model.predict(test_x)"
   ]
  },
  {
   "cell_type": "code",
   "execution_count": 127,
   "id": "32118d05",
   "metadata": {},
   "outputs": [
    {
     "data": {
      "text/plain": [
       "array([0., 0., 0., ..., 0., 0., 1.])"
      ]
     },
     "execution_count": 127,
     "metadata": {},
     "output_type": "execute_result"
    }
   ],
   "source": [
    "final_pred2"
   ]
  },
  {
   "cell_type": "code",
   "execution_count": 128,
   "id": "e2926b73",
   "metadata": {},
   "outputs": [],
   "source": [
    "voting_pred1=pd.concat([test_find,round(pd.DataFrame(final_pred2),1)],axis=1)"
   ]
  },
  {
   "cell_type": "code",
   "execution_count": 129,
   "id": "0544f695",
   "metadata": {},
   "outputs": [
    {
     "data": {
      "text/html": [
       "<div>\n",
       "<style scoped>\n",
       "    .dataframe tbody tr th:only-of-type {\n",
       "        vertical-align: middle;\n",
       "    }\n",
       "\n",
       "    .dataframe tbody tr th {\n",
       "        vertical-align: top;\n",
       "    }\n",
       "\n",
       "    .dataframe thead th {\n",
       "        text-align: right;\n",
       "    }\n",
       "</style>\n",
       "<table border=\"1\" class=\"dataframe\">\n",
       "  <thead>\n",
       "    <tr style=\"text-align: right;\">\n",
       "      <th></th>\n",
       "      <th>employee_id</th>\n",
       "      <th>0</th>\n",
       "    </tr>\n",
       "  </thead>\n",
       "  <tbody>\n",
       "    <tr>\n",
       "      <th>0</th>\n",
       "      <td>8724</td>\n",
       "      <td>0.0</td>\n",
       "    </tr>\n",
       "    <tr>\n",
       "      <th>1</th>\n",
       "      <td>74430</td>\n",
       "      <td>0.0</td>\n",
       "    </tr>\n",
       "    <tr>\n",
       "      <th>2</th>\n",
       "      <td>72255</td>\n",
       "      <td>0.0</td>\n",
       "    </tr>\n",
       "    <tr>\n",
       "      <th>3</th>\n",
       "      <td>38562</td>\n",
       "      <td>0.0</td>\n",
       "    </tr>\n",
       "    <tr>\n",
       "      <th>4</th>\n",
       "      <td>64486</td>\n",
       "      <td>0.0</td>\n",
       "    </tr>\n",
       "    <tr>\n",
       "      <th>...</th>\n",
       "      <td>...</td>\n",
       "      <td>...</td>\n",
       "    </tr>\n",
       "    <tr>\n",
       "      <th>23485</th>\n",
       "      <td>53478</td>\n",
       "      <td>0.0</td>\n",
       "    </tr>\n",
       "    <tr>\n",
       "      <th>23486</th>\n",
       "      <td>25600</td>\n",
       "      <td>0.0</td>\n",
       "    </tr>\n",
       "    <tr>\n",
       "      <th>23487</th>\n",
       "      <td>45409</td>\n",
       "      <td>0.0</td>\n",
       "    </tr>\n",
       "    <tr>\n",
       "      <th>23488</th>\n",
       "      <td>1186</td>\n",
       "      <td>0.0</td>\n",
       "    </tr>\n",
       "    <tr>\n",
       "      <th>23489</th>\n",
       "      <td>5973</td>\n",
       "      <td>1.0</td>\n",
       "    </tr>\n",
       "  </tbody>\n",
       "</table>\n",
       "<p>23490 rows × 2 columns</p>\n",
       "</div>"
      ],
      "text/plain": [
       "       employee_id    0\n",
       "0             8724  0.0\n",
       "1            74430  0.0\n",
       "2            72255  0.0\n",
       "3            38562  0.0\n",
       "4            64486  0.0\n",
       "...            ...  ...\n",
       "23485        53478  0.0\n",
       "23486        25600  0.0\n",
       "23487        45409  0.0\n",
       "23488         1186  0.0\n",
       "23489         5973  1.0\n",
       "\n",
       "[23490 rows x 2 columns]"
      ]
     },
     "execution_count": 129,
     "metadata": {},
     "output_type": "execute_result"
    }
   ],
   "source": [
    "voting_pred1"
   ]
  },
  {
   "cell_type": "code",
   "execution_count": 130,
   "id": "fde04d34",
   "metadata": {},
   "outputs": [],
   "source": [
    "voting_pred1.to_csv(\"voting_pred1.csv\",index=False)"
   ]
  },
  {
   "cell_type": "code",
   "execution_count": 131,
   "id": "16200223",
   "metadata": {},
   "outputs": [],
   "source": [
    "from sklearn.tree import DecisionTreeClassifier\n",
    "modell1=DecisionTreeClassifier()\n",
    "from sklearn.ensemble import RandomForestClassifier\n",
    "modell2=RandomForestClassifier(n_estimators=15,random_state=0)\n",
    "\n",
    "modell3=LogisticRegression()"
   ]
  },
  {
   "cell_type": "code",
   "execution_count": 132,
   "id": "779fff28",
   "metadata": {},
   "outputs": [
    {
     "data": {
      "text/plain": [
       "LogisticRegression()"
      ]
     },
     "execution_count": 132,
     "metadata": {},
     "output_type": "execute_result"
    }
   ],
   "source": [
    "modell3.fit(train_x,train_y)"
   ]
  },
  {
   "cell_type": "code",
   "execution_count": 134,
   "id": "e74c7f9a",
   "metadata": {},
   "outputs": [
    {
     "data": {
      "text/plain": [
       "RandomForestClassifier(n_estimators=15, random_state=0)"
      ]
     },
     "execution_count": 134,
     "metadata": {},
     "output_type": "execute_result"
    }
   ],
   "source": [
    "modell2.fit(train_x,train_y)"
   ]
  },
  {
   "cell_type": "code",
   "execution_count": 135,
   "id": "0e2649e0",
   "metadata": {},
   "outputs": [
    {
     "data": {
      "text/plain": [
       "DecisionTreeClassifier()"
      ]
     },
     "execution_count": 135,
     "metadata": {},
     "output_type": "execute_result"
    }
   ],
   "source": [
    "modell1.fit(train_x,train_y)"
   ]
  },
  {
   "cell_type": "code",
   "execution_count": 136,
   "id": "c4aec194",
   "metadata": {},
   "outputs": [],
   "source": [
    "pred1=modell1.predict(test_x)\n",
    "# pred2=modell2.predict(test_x)\n",
    "# pred3=modell3.predict(test_x)"
   ]
  },
  {
   "cell_type": "code",
   "execution_count": 137,
   "id": "5ef5d8bd",
   "metadata": {},
   "outputs": [],
   "source": [
    "pred2=modell2.predict(test_x)"
   ]
  },
  {
   "cell_type": "code",
   "execution_count": 138,
   "id": "0d2ca402",
   "metadata": {},
   "outputs": [],
   "source": [
    "pred3=modell3.predict(test_x)"
   ]
  },
  {
   "cell_type": "code",
   "execution_count": 139,
   "id": "58e17b71",
   "metadata": {},
   "outputs": [],
   "source": [
    "from statistics import mode"
   ]
  },
  {
   "cell_type": "code",
   "execution_count": 140,
   "id": "7891b916",
   "metadata": {},
   "outputs": [],
   "source": [
    "final_predll=np.array([])\n",
    "for i in range(0,len(test_x)):\n",
    "    final_predll=np.append(final_predll,mode([pred1[i],pred2[i],pred3[i]]))"
   ]
  },
  {
   "cell_type": "code",
   "execution_count": 141,
   "id": "df654476",
   "metadata": {},
   "outputs": [
    {
     "data": {
      "text/plain": [
       "array([0., 0., 0., ..., 0., 0., 1.])"
      ]
     },
     "execution_count": 141,
     "metadata": {},
     "output_type": "execute_result"
    }
   ],
   "source": [
    "final_predll"
   ]
  },
  {
   "cell_type": "code",
   "execution_count": 142,
   "id": "73a1211e",
   "metadata": {},
   "outputs": [],
   "source": [
    "finalll_pred=pd.concat([test_find,round(pd.DataFrame(final_predll),1)],axis=1)"
   ]
  },
  {
   "cell_type": "code",
   "execution_count": 143,
   "id": "a412043b",
   "metadata": {},
   "outputs": [
    {
     "data": {
      "text/html": [
       "<div>\n",
       "<style scoped>\n",
       "    .dataframe tbody tr th:only-of-type {\n",
       "        vertical-align: middle;\n",
       "    }\n",
       "\n",
       "    .dataframe tbody tr th {\n",
       "        vertical-align: top;\n",
       "    }\n",
       "\n",
       "    .dataframe thead th {\n",
       "        text-align: right;\n",
       "    }\n",
       "</style>\n",
       "<table border=\"1\" class=\"dataframe\">\n",
       "  <thead>\n",
       "    <tr style=\"text-align: right;\">\n",
       "      <th></th>\n",
       "      <th>employee_id</th>\n",
       "      <th>0</th>\n",
       "    </tr>\n",
       "  </thead>\n",
       "  <tbody>\n",
       "    <tr>\n",
       "      <th>0</th>\n",
       "      <td>8724</td>\n",
       "      <td>0.0</td>\n",
       "    </tr>\n",
       "    <tr>\n",
       "      <th>1</th>\n",
       "      <td>74430</td>\n",
       "      <td>0.0</td>\n",
       "    </tr>\n",
       "    <tr>\n",
       "      <th>2</th>\n",
       "      <td>72255</td>\n",
       "      <td>0.0</td>\n",
       "    </tr>\n",
       "    <tr>\n",
       "      <th>3</th>\n",
       "      <td>38562</td>\n",
       "      <td>0.0</td>\n",
       "    </tr>\n",
       "    <tr>\n",
       "      <th>4</th>\n",
       "      <td>64486</td>\n",
       "      <td>0.0</td>\n",
       "    </tr>\n",
       "    <tr>\n",
       "      <th>...</th>\n",
       "      <td>...</td>\n",
       "      <td>...</td>\n",
       "    </tr>\n",
       "    <tr>\n",
       "      <th>23485</th>\n",
       "      <td>53478</td>\n",
       "      <td>0.0</td>\n",
       "    </tr>\n",
       "    <tr>\n",
       "      <th>23486</th>\n",
       "      <td>25600</td>\n",
       "      <td>0.0</td>\n",
       "    </tr>\n",
       "    <tr>\n",
       "      <th>23487</th>\n",
       "      <td>45409</td>\n",
       "      <td>0.0</td>\n",
       "    </tr>\n",
       "    <tr>\n",
       "      <th>23488</th>\n",
       "      <td>1186</td>\n",
       "      <td>0.0</td>\n",
       "    </tr>\n",
       "    <tr>\n",
       "      <th>23489</th>\n",
       "      <td>5973</td>\n",
       "      <td>1.0</td>\n",
       "    </tr>\n",
       "  </tbody>\n",
       "</table>\n",
       "<p>23490 rows × 2 columns</p>\n",
       "</div>"
      ],
      "text/plain": [
       "       employee_id    0\n",
       "0             8724  0.0\n",
       "1            74430  0.0\n",
       "2            72255  0.0\n",
       "3            38562  0.0\n",
       "4            64486  0.0\n",
       "...            ...  ...\n",
       "23485        53478  0.0\n",
       "23486        25600  0.0\n",
       "23487        45409  0.0\n",
       "23488         1186  0.0\n",
       "23489         5973  1.0\n",
       "\n",
       "[23490 rows x 2 columns]"
      ]
     },
     "execution_count": 143,
     "metadata": {},
     "output_type": "execute_result"
    }
   ],
   "source": [
    "finalll_pred"
   ]
  },
  {
   "cell_type": "code",
   "execution_count": 145,
   "id": "f2a79bfc",
   "metadata": {},
   "outputs": [],
   "source": [
    "finalll_pred.to_csv(\"finalll_pred.csv\",index=False)"
   ]
  },
  {
   "cell_type": "code",
   "execution_count": 146,
   "id": "04c5e7a0",
   "metadata": {},
   "outputs": [],
   "source": [
    "final_predll3=np.array([])\n",
    "for i in range(0,len(test_x)):\n",
    "    final_predll3=np.append(final_predll,mode([pred1[i],pred2[i]]))"
   ]
  },
  {
   "cell_type": "code",
   "execution_count": 147,
   "id": "85a8d1bc",
   "metadata": {},
   "outputs": [
    {
     "data": {
      "text/plain": [
       "array([0., 0., 0., ..., 0., 1., 1.])"
      ]
     },
     "execution_count": 147,
     "metadata": {},
     "output_type": "execute_result"
    }
   ],
   "source": [
    "final_predll3"
   ]
  },
  {
   "cell_type": "code",
   "execution_count": 148,
   "id": "5d4e5c74",
   "metadata": {},
   "outputs": [],
   "source": [
    "final_predll3=pd.concat([test_find,round(pd.DataFrame(final_predll3),1)],axis=1)"
   ]
  },
  {
   "cell_type": "code",
   "execution_count": 149,
   "id": "9618a536",
   "metadata": {},
   "outputs": [
    {
     "data": {
      "text/html": [
       "<div>\n",
       "<style scoped>\n",
       "    .dataframe tbody tr th:only-of-type {\n",
       "        vertical-align: middle;\n",
       "    }\n",
       "\n",
       "    .dataframe tbody tr th {\n",
       "        vertical-align: top;\n",
       "    }\n",
       "\n",
       "    .dataframe thead th {\n",
       "        text-align: right;\n",
       "    }\n",
       "</style>\n",
       "<table border=\"1\" class=\"dataframe\">\n",
       "  <thead>\n",
       "    <tr style=\"text-align: right;\">\n",
       "      <th></th>\n",
       "      <th>employee_id</th>\n",
       "      <th>0</th>\n",
       "    </tr>\n",
       "  </thead>\n",
       "  <tbody>\n",
       "    <tr>\n",
       "      <th>0</th>\n",
       "      <td>8724.0</td>\n",
       "      <td>0.0</td>\n",
       "    </tr>\n",
       "    <tr>\n",
       "      <th>1</th>\n",
       "      <td>74430.0</td>\n",
       "      <td>0.0</td>\n",
       "    </tr>\n",
       "    <tr>\n",
       "      <th>2</th>\n",
       "      <td>72255.0</td>\n",
       "      <td>0.0</td>\n",
       "    </tr>\n",
       "    <tr>\n",
       "      <th>3</th>\n",
       "      <td>38562.0</td>\n",
       "      <td>0.0</td>\n",
       "    </tr>\n",
       "    <tr>\n",
       "      <th>4</th>\n",
       "      <td>64486.0</td>\n",
       "      <td>0.0</td>\n",
       "    </tr>\n",
       "    <tr>\n",
       "      <th>...</th>\n",
       "      <td>...</td>\n",
       "      <td>...</td>\n",
       "    </tr>\n",
       "    <tr>\n",
       "      <th>23486</th>\n",
       "      <td>25600.0</td>\n",
       "      <td>0.0</td>\n",
       "    </tr>\n",
       "    <tr>\n",
       "      <th>23487</th>\n",
       "      <td>45409.0</td>\n",
       "      <td>0.0</td>\n",
       "    </tr>\n",
       "    <tr>\n",
       "      <th>23488</th>\n",
       "      <td>1186.0</td>\n",
       "      <td>0.0</td>\n",
       "    </tr>\n",
       "    <tr>\n",
       "      <th>23489</th>\n",
       "      <td>5973.0</td>\n",
       "      <td>1.0</td>\n",
       "    </tr>\n",
       "    <tr>\n",
       "      <th>23490</th>\n",
       "      <td>NaN</td>\n",
       "      <td>1.0</td>\n",
       "    </tr>\n",
       "  </tbody>\n",
       "</table>\n",
       "<p>23491 rows × 2 columns</p>\n",
       "</div>"
      ],
      "text/plain": [
       "       employee_id    0\n",
       "0           8724.0  0.0\n",
       "1          74430.0  0.0\n",
       "2          72255.0  0.0\n",
       "3          38562.0  0.0\n",
       "4          64486.0  0.0\n",
       "...            ...  ...\n",
       "23486      25600.0  0.0\n",
       "23487      45409.0  0.0\n",
       "23488       1186.0  0.0\n",
       "23489       5973.0  1.0\n",
       "23490          NaN  1.0\n",
       "\n",
       "[23491 rows x 2 columns]"
      ]
     },
     "execution_count": 149,
     "metadata": {},
     "output_type": "execute_result"
    }
   ],
   "source": [
    "final_predll3"
   ]
  },
  {
   "cell_type": "code",
   "execution_count": 150,
   "id": "45ff40a5",
   "metadata": {},
   "outputs": [],
   "source": [
    "final_predll3.to_csv(\"final_predll4.csv\",index=False)"
   ]
  },
  {
   "cell_type": "code",
   "execution_count": 151,
   "id": "a40ab833",
   "metadata": {},
   "outputs": [
    {
     "data": {
      "text/plain": [
       "(23490, 13)"
      ]
     },
     "execution_count": 151,
     "metadata": {},
     "output_type": "execute_result"
    }
   ],
   "source": [
    "hr_data2.shape"
   ]
  },
  {
   "cell_type": "code",
   "execution_count": 152,
   "id": "c9517826",
   "metadata": {},
   "outputs": [],
   "source": [
    "# yft=final_predll3.drop(23490,inplace = True)"
   ]
  },
  {
   "cell_type": "markdown",
   "id": "ffd1f4e0",
   "metadata": {},
   "source": [
    "Adaboost"
   ]
  },
  {
   "cell_type": "code",
   "execution_count": 153,
   "id": "e4b1d437",
   "metadata": {},
   "outputs": [
    {
     "data": {
      "text/plain": [
       "AdaBoostClassifier(random_state=1)"
      ]
     },
     "execution_count": 153,
     "metadata": {},
     "output_type": "execute_result"
    }
   ],
   "source": [
    "from sklearn.ensemble import AdaBoostClassifier\n",
    "model=AdaBoostClassifier(random_state=1)\n",
    "model.fit(train_x,train_y)"
   ]
  },
  {
   "cell_type": "code",
   "execution_count": 154,
   "id": "7f095c7c",
   "metadata": {},
   "outputs": [],
   "source": [
    "Adaboost=model.predict(test_x)"
   ]
  },
  {
   "cell_type": "code",
   "execution_count": 155,
   "id": "86aaa00e",
   "metadata": {},
   "outputs": [
    {
     "data": {
      "text/plain": [
       "array([0., 0., 0., ..., 0., 0., 0.])"
      ]
     },
     "execution_count": 155,
     "metadata": {},
     "output_type": "execute_result"
    }
   ],
   "source": [
    "Adaboost"
   ]
  },
  {
   "cell_type": "code",
   "execution_count": 156,
   "id": "61ac306e",
   "metadata": {},
   "outputs": [],
   "source": [
    "Adaboost_Prd=pd.concat([test_find,round(pd.DataFrame(Adaboost),1)],axis=1)"
   ]
  },
  {
   "cell_type": "code",
   "execution_count": 157,
   "id": "37baf349",
   "metadata": {},
   "outputs": [
    {
     "data": {
      "text/html": [
       "<div>\n",
       "<style scoped>\n",
       "    .dataframe tbody tr th:only-of-type {\n",
       "        vertical-align: middle;\n",
       "    }\n",
       "\n",
       "    .dataframe tbody tr th {\n",
       "        vertical-align: top;\n",
       "    }\n",
       "\n",
       "    .dataframe thead th {\n",
       "        text-align: right;\n",
       "    }\n",
       "</style>\n",
       "<table border=\"1\" class=\"dataframe\">\n",
       "  <thead>\n",
       "    <tr style=\"text-align: right;\">\n",
       "      <th></th>\n",
       "      <th>employee_id</th>\n",
       "      <th>0</th>\n",
       "    </tr>\n",
       "  </thead>\n",
       "  <tbody>\n",
       "    <tr>\n",
       "      <th>0</th>\n",
       "      <td>8724</td>\n",
       "      <td>0.0</td>\n",
       "    </tr>\n",
       "    <tr>\n",
       "      <th>1</th>\n",
       "      <td>74430</td>\n",
       "      <td>0.0</td>\n",
       "    </tr>\n",
       "    <tr>\n",
       "      <th>2</th>\n",
       "      <td>72255</td>\n",
       "      <td>0.0</td>\n",
       "    </tr>\n",
       "    <tr>\n",
       "      <th>3</th>\n",
       "      <td>38562</td>\n",
       "      <td>0.0</td>\n",
       "    </tr>\n",
       "    <tr>\n",
       "      <th>4</th>\n",
       "      <td>64486</td>\n",
       "      <td>0.0</td>\n",
       "    </tr>\n",
       "    <tr>\n",
       "      <th>...</th>\n",
       "      <td>...</td>\n",
       "      <td>...</td>\n",
       "    </tr>\n",
       "    <tr>\n",
       "      <th>23485</th>\n",
       "      <td>53478</td>\n",
       "      <td>0.0</td>\n",
       "    </tr>\n",
       "    <tr>\n",
       "      <th>23486</th>\n",
       "      <td>25600</td>\n",
       "      <td>0.0</td>\n",
       "    </tr>\n",
       "    <tr>\n",
       "      <th>23487</th>\n",
       "      <td>45409</td>\n",
       "      <td>0.0</td>\n",
       "    </tr>\n",
       "    <tr>\n",
       "      <th>23488</th>\n",
       "      <td>1186</td>\n",
       "      <td>0.0</td>\n",
       "    </tr>\n",
       "    <tr>\n",
       "      <th>23489</th>\n",
       "      <td>5973</td>\n",
       "      <td>0.0</td>\n",
       "    </tr>\n",
       "  </tbody>\n",
       "</table>\n",
       "<p>23490 rows × 2 columns</p>\n",
       "</div>"
      ],
      "text/plain": [
       "       employee_id    0\n",
       "0             8724  0.0\n",
       "1            74430  0.0\n",
       "2            72255  0.0\n",
       "3            38562  0.0\n",
       "4            64486  0.0\n",
       "...            ...  ...\n",
       "23485        53478  0.0\n",
       "23486        25600  0.0\n",
       "23487        45409  0.0\n",
       "23488         1186  0.0\n",
       "23489         5973  0.0\n",
       "\n",
       "[23490 rows x 2 columns]"
      ]
     },
     "execution_count": 157,
     "metadata": {},
     "output_type": "execute_result"
    }
   ],
   "source": [
    "Adaboost_Prd"
   ]
  },
  {
   "cell_type": "code",
   "execution_count": 158,
   "id": "20a9e656",
   "metadata": {},
   "outputs": [
    {
     "data": {
      "text/plain": [
       "(23490, 18)"
      ]
     },
     "execution_count": 158,
     "metadata": {},
     "output_type": "execute_result"
    }
   ],
   "source": [
    "test_x.shape"
   ]
  },
  {
   "cell_type": "code",
   "execution_count": 159,
   "id": "3c11302c",
   "metadata": {},
   "outputs": [
    {
     "data": {
      "text/plain": [
       "(23490, 1)"
      ]
     },
     "execution_count": 159,
     "metadata": {},
     "output_type": "execute_result"
    }
   ],
   "source": [
    "test_find.shape"
   ]
  },
  {
   "cell_type": "code",
   "execution_count": 160,
   "id": "8fa51aea",
   "metadata": {},
   "outputs": [],
   "source": [
    "Adaboost_Prd.to_csv(\"Adaboost_Prd.csv\",index=False)"
   ]
  },
  {
   "cell_type": "markdown",
   "id": "295e34de",
   "metadata": {},
   "source": [
    "model : GradientBoostingClassifier"
   ]
  },
  {
   "cell_type": "code",
   "execution_count": 161,
   "id": "3a826bfb",
   "metadata": {},
   "outputs": [
    {
     "data": {
      "text/plain": [
       "GradientBoostingClassifier(learning_rate=0.01, random_state=1)"
      ]
     },
     "execution_count": 161,
     "metadata": {},
     "output_type": "execute_result"
    }
   ],
   "source": [
    "from sklearn.ensemble import GradientBoostingClassifier\n",
    "model1=GradientBoostingClassifier(learning_rate=0.01,random_state=1)\n",
    "model1.fit(train_x,train_y)"
   ]
  },
  {
   "cell_type": "code",
   "execution_count": 162,
   "id": "f2790eae",
   "metadata": {},
   "outputs": [],
   "source": [
    "grad=model1.predict(test_x)"
   ]
  },
  {
   "cell_type": "code",
   "execution_count": 163,
   "id": "8eeb87c0",
   "metadata": {},
   "outputs": [
    {
     "data": {
      "text/plain": [
       "array([0., 0., 0., ..., 0., 0., 0.])"
      ]
     },
     "execution_count": 163,
     "metadata": {},
     "output_type": "execute_result"
    }
   ],
   "source": [
    "grad"
   ]
  },
  {
   "cell_type": "code",
   "execution_count": 164,
   "id": "35b91b63",
   "metadata": {},
   "outputs": [],
   "source": [
    "grad=pd.concat([test_find,round(pd.DataFrame(grad),1)],axis=1)"
   ]
  },
  {
   "cell_type": "code",
   "execution_count": 165,
   "id": "99427f7d",
   "metadata": {},
   "outputs": [
    {
     "data": {
      "text/html": [
       "<div>\n",
       "<style scoped>\n",
       "    .dataframe tbody tr th:only-of-type {\n",
       "        vertical-align: middle;\n",
       "    }\n",
       "\n",
       "    .dataframe tbody tr th {\n",
       "        vertical-align: top;\n",
       "    }\n",
       "\n",
       "    .dataframe thead th {\n",
       "        text-align: right;\n",
       "    }\n",
       "</style>\n",
       "<table border=\"1\" class=\"dataframe\">\n",
       "  <thead>\n",
       "    <tr style=\"text-align: right;\">\n",
       "      <th></th>\n",
       "      <th>employee_id</th>\n",
       "      <th>0</th>\n",
       "    </tr>\n",
       "  </thead>\n",
       "  <tbody>\n",
       "    <tr>\n",
       "      <th>0</th>\n",
       "      <td>8724</td>\n",
       "      <td>0.0</td>\n",
       "    </tr>\n",
       "    <tr>\n",
       "      <th>1</th>\n",
       "      <td>74430</td>\n",
       "      <td>0.0</td>\n",
       "    </tr>\n",
       "    <tr>\n",
       "      <th>2</th>\n",
       "      <td>72255</td>\n",
       "      <td>0.0</td>\n",
       "    </tr>\n",
       "    <tr>\n",
       "      <th>3</th>\n",
       "      <td>38562</td>\n",
       "      <td>0.0</td>\n",
       "    </tr>\n",
       "    <tr>\n",
       "      <th>4</th>\n",
       "      <td>64486</td>\n",
       "      <td>0.0</td>\n",
       "    </tr>\n",
       "    <tr>\n",
       "      <th>...</th>\n",
       "      <td>...</td>\n",
       "      <td>...</td>\n",
       "    </tr>\n",
       "    <tr>\n",
       "      <th>23485</th>\n",
       "      <td>53478</td>\n",
       "      <td>0.0</td>\n",
       "    </tr>\n",
       "    <tr>\n",
       "      <th>23486</th>\n",
       "      <td>25600</td>\n",
       "      <td>0.0</td>\n",
       "    </tr>\n",
       "    <tr>\n",
       "      <th>23487</th>\n",
       "      <td>45409</td>\n",
       "      <td>0.0</td>\n",
       "    </tr>\n",
       "    <tr>\n",
       "      <th>23488</th>\n",
       "      <td>1186</td>\n",
       "      <td>0.0</td>\n",
       "    </tr>\n",
       "    <tr>\n",
       "      <th>23489</th>\n",
       "      <td>5973</td>\n",
       "      <td>0.0</td>\n",
       "    </tr>\n",
       "  </tbody>\n",
       "</table>\n",
       "<p>23490 rows × 2 columns</p>\n",
       "</div>"
      ],
      "text/plain": [
       "       employee_id    0\n",
       "0             8724  0.0\n",
       "1            74430  0.0\n",
       "2            72255  0.0\n",
       "3            38562  0.0\n",
       "4            64486  0.0\n",
       "...            ...  ...\n",
       "23485        53478  0.0\n",
       "23486        25600  0.0\n",
       "23487        45409  0.0\n",
       "23488         1186  0.0\n",
       "23489         5973  0.0\n",
       "\n",
       "[23490 rows x 2 columns]"
      ]
     },
     "execution_count": 165,
     "metadata": {},
     "output_type": "execute_result"
    }
   ],
   "source": [
    "grad"
   ]
  },
  {
   "cell_type": "code",
   "execution_count": 166,
   "id": "f2962815",
   "metadata": {},
   "outputs": [],
   "source": [
    "grad.to_csv(\"grad.csv\",index=False)"
   ]
  },
  {
   "cell_type": "markdown",
   "id": "75b943c4",
   "metadata": {},
   "source": [
    "xgboost"
   ]
  },
  {
   "cell_type": "code",
   "execution_count": 167,
   "id": "229d6be2",
   "metadata": {},
   "outputs": [],
   "source": [
    "import xgboost as xg"
   ]
  },
  {
   "cell_type": "code",
   "execution_count": 168,
   "id": "23c46f9e",
   "metadata": {},
   "outputs": [],
   "source": [
    "model_xg=xg.XGBClassifier(learning_rate=0.01,random_state=1)"
   ]
  },
  {
   "cell_type": "code",
   "execution_count": 169,
   "id": "190fd09a",
   "metadata": {},
   "outputs": [
    {
     "name": "stdout",
     "output_type": "stream",
     "text": [
      "[16:03:52] WARNING: ..\\src\\learner.cc:1115: Starting in XGBoost 1.3.0, the default evaluation metric used with the objective 'binary:logistic' was changed from 'error' to 'logloss'. Explicitly set eval_metric if you'd like to restore the old behavior.\n"
     ]
    },
    {
     "data": {
      "text/plain": [
       "XGBClassifier(base_score=0.5, booster='gbtree', colsample_bylevel=1,\n",
       "              colsample_bynode=1, colsample_bytree=1, enable_categorical=False,\n",
       "              gamma=0, gpu_id=-1, importance_type=None,\n",
       "              interaction_constraints='', learning_rate=0.01, max_delta_step=0,\n",
       "              max_depth=6, min_child_weight=1, missing=nan,\n",
       "              monotone_constraints='()', n_estimators=100, n_jobs=8,\n",
       "              num_parallel_tree=1, predictor='auto', random_state=1,\n",
       "              reg_alpha=0, reg_lambda=1, scale_pos_weight=1, subsample=1,\n",
       "              tree_method='exact', validate_parameters=1, verbosity=None)"
      ]
     },
     "execution_count": 169,
     "metadata": {},
     "output_type": "execute_result"
    }
   ],
   "source": [
    "model_xg.fit(train_x,train_y)"
   ]
  },
  {
   "cell_type": "code",
   "execution_count": 170,
   "id": "bf955703",
   "metadata": {},
   "outputs": [],
   "source": [
    "model_xgb=model_xg.predict(test_x)"
   ]
  },
  {
   "cell_type": "code",
   "execution_count": 171,
   "id": "a5b3c908",
   "metadata": {},
   "outputs": [
    {
     "data": {
      "text/plain": [
       "array([0., 0., 0., ..., 0., 0., 0.])"
      ]
     },
     "execution_count": 171,
     "metadata": {},
     "output_type": "execute_result"
    }
   ],
   "source": [
    "model_xgb"
   ]
  },
  {
   "cell_type": "code",
   "execution_count": 172,
   "id": "63b909e4",
   "metadata": {},
   "outputs": [],
   "source": [
    "model_xgb=pd.concat([test_find,round(pd.DataFrame(model_xgb),1)],axis=1)"
   ]
  },
  {
   "cell_type": "code",
   "execution_count": 173,
   "id": "6837db53",
   "metadata": {},
   "outputs": [
    {
     "data": {
      "text/html": [
       "<div>\n",
       "<style scoped>\n",
       "    .dataframe tbody tr th:only-of-type {\n",
       "        vertical-align: middle;\n",
       "    }\n",
       "\n",
       "    .dataframe tbody tr th {\n",
       "        vertical-align: top;\n",
       "    }\n",
       "\n",
       "    .dataframe thead th {\n",
       "        text-align: right;\n",
       "    }\n",
       "</style>\n",
       "<table border=\"1\" class=\"dataframe\">\n",
       "  <thead>\n",
       "    <tr style=\"text-align: right;\">\n",
       "      <th></th>\n",
       "      <th>employee_id</th>\n",
       "      <th>0</th>\n",
       "    </tr>\n",
       "  </thead>\n",
       "  <tbody>\n",
       "    <tr>\n",
       "      <th>0</th>\n",
       "      <td>8724</td>\n",
       "      <td>0.0</td>\n",
       "    </tr>\n",
       "    <tr>\n",
       "      <th>1</th>\n",
       "      <td>74430</td>\n",
       "      <td>0.0</td>\n",
       "    </tr>\n",
       "    <tr>\n",
       "      <th>2</th>\n",
       "      <td>72255</td>\n",
       "      <td>0.0</td>\n",
       "    </tr>\n",
       "    <tr>\n",
       "      <th>3</th>\n",
       "      <td>38562</td>\n",
       "      <td>0.0</td>\n",
       "    </tr>\n",
       "    <tr>\n",
       "      <th>4</th>\n",
       "      <td>64486</td>\n",
       "      <td>0.0</td>\n",
       "    </tr>\n",
       "    <tr>\n",
       "      <th>...</th>\n",
       "      <td>...</td>\n",
       "      <td>...</td>\n",
       "    </tr>\n",
       "    <tr>\n",
       "      <th>23485</th>\n",
       "      <td>53478</td>\n",
       "      <td>0.0</td>\n",
       "    </tr>\n",
       "    <tr>\n",
       "      <th>23486</th>\n",
       "      <td>25600</td>\n",
       "      <td>0.0</td>\n",
       "    </tr>\n",
       "    <tr>\n",
       "      <th>23487</th>\n",
       "      <td>45409</td>\n",
       "      <td>0.0</td>\n",
       "    </tr>\n",
       "    <tr>\n",
       "      <th>23488</th>\n",
       "      <td>1186</td>\n",
       "      <td>0.0</td>\n",
       "    </tr>\n",
       "    <tr>\n",
       "      <th>23489</th>\n",
       "      <td>5973</td>\n",
       "      <td>0.0</td>\n",
       "    </tr>\n",
       "  </tbody>\n",
       "</table>\n",
       "<p>23490 rows × 2 columns</p>\n",
       "</div>"
      ],
      "text/plain": [
       "       employee_id    0\n",
       "0             8724  0.0\n",
       "1            74430  0.0\n",
       "2            72255  0.0\n",
       "3            38562  0.0\n",
       "4            64486  0.0\n",
       "...            ...  ...\n",
       "23485        53478  0.0\n",
       "23486        25600  0.0\n",
       "23487        45409  0.0\n",
       "23488         1186  0.0\n",
       "23489         5973  0.0\n",
       "\n",
       "[23490 rows x 2 columns]"
      ]
     },
     "execution_count": 173,
     "metadata": {},
     "output_type": "execute_result"
    }
   ],
   "source": [
    "model_xgb"
   ]
  },
  {
   "cell_type": "code",
   "execution_count": 174,
   "id": "77127cc3",
   "metadata": {},
   "outputs": [],
   "source": [
    "model_xgb.to_csv(\"model_xgb.csv\",index=False)"
   ]
  },
  {
   "cell_type": "code",
   "execution_count": 175,
   "id": "8e56fe04",
   "metadata": {},
   "outputs": [],
   "source": [
    "import xgboost as xg\n",
    "parameters={\"learning_rate\":[0.01,0.1,0.2,0.3],\n",
    "           \"n_estimators\":[10,20,30,40,50,75,100,150,200],\n",
    "           \"n_jobs\":[2,6,8,10],\n",
    "           'max_depth':[4,6,8,10]\n",
    "#            \"random_state\":[0]\n",
    "           }"
   ]
  },
  {
   "cell_type": "code",
   "execution_count": 176,
   "id": "77c23655",
   "metadata": {},
   "outputs": [],
   "source": [
    "model=xg.XGBClassifier(random_state=0)"
   ]
  },
  {
   "cell_type": "code",
   "execution_count": 177,
   "id": "19e2cb6c",
   "metadata": {},
   "outputs": [
    {
     "name": "stdout",
     "output_type": "stream",
     "text": [
      "[18:31:41] WARNING: ..\\src\\learner.cc:1115: Starting in XGBoost 1.3.0, the default evaluation metric used with the objective 'binary:logistic' was changed from 'error' to 'logloss'. Explicitly set eval_metric if you'd like to restore the old behavior.\n"
     ]
    },
    {
     "data": {
      "text/plain": [
       "GridSearchCV(cv=10,\n",
       "             estimator=XGBClassifier(base_score=None, booster=None,\n",
       "                                     colsample_bylevel=None,\n",
       "                                     colsample_bynode=None,\n",
       "                                     colsample_bytree=None,\n",
       "                                     enable_categorical=False, gamma=None,\n",
       "                                     gpu_id=None, importance_type=None,\n",
       "                                     interaction_constraints=None,\n",
       "                                     learning_rate=None, max_delta_step=None,\n",
       "                                     max_depth=None, min_child_weight=None,\n",
       "                                     missing=nan, monotone_constraints=None,\n",
       "                                     n_estimators=100, n_jobs=None,\n",
       "                                     num_parallel_tree=None, predictor=None,\n",
       "                                     random_state=0, reg_alpha=None,\n",
       "                                     reg_lambda=None, scale_pos_weight=None,\n",
       "                                     subsample=None, tree_method=None,\n",
       "                                     validate_parameters=None, verbosity=None),\n",
       "             n_jobs=-1,\n",
       "             param_grid={'learning_rate': [0.01, 0.1, 0.2, 0.3],\n",
       "                         'max_depth': [4, 6, 8, 10],\n",
       "                         'n_estimators': [10, 20, 30, 40, 50, 75, 100, 150,\n",
       "                                          200],\n",
       "                         'n_jobs': [2, 6, 8, 10]})"
      ]
     },
     "execution_count": 177,
     "metadata": {},
     "output_type": "execute_result"
    }
   ],
   "source": [
    "from sklearn.model_selection import GridSearchCV\n",
    "GS_XG=GridSearchCV(estimator=model,\n",
    "                  param_grid=parameters,\n",
    "                  cv=10,\n",
    "                  n_jobs=-1)\n",
    "\n",
    "GS_XG.fit(train_x,train_y)"
   ]
  },
  {
   "cell_type": "code",
   "execution_count": 178,
   "id": "d02c7eee",
   "metadata": {},
   "outputs": [],
   "source": [
    "xg=GS_XG.predict(test_x)"
   ]
  },
  {
   "cell_type": "code",
   "execution_count": 179,
   "id": "16f2fe0d",
   "metadata": {},
   "outputs": [
    {
     "data": {
      "text/plain": [
       "array([0., 0., 0., ..., 0., 0., 1.])"
      ]
     },
     "execution_count": 179,
     "metadata": {},
     "output_type": "execute_result"
    }
   ],
   "source": [
    "xg"
   ]
  },
  {
   "cell_type": "code",
   "execution_count": 180,
   "id": "d180a855",
   "metadata": {},
   "outputs": [],
   "source": [
    "xg=pd.concat([test_find,round(pd.DataFrame(xg),1)],axis=1)"
   ]
  },
  {
   "cell_type": "code",
   "execution_count": 181,
   "id": "7ff096d4",
   "metadata": {},
   "outputs": [
    {
     "data": {
      "text/html": [
       "<div>\n",
       "<style scoped>\n",
       "    .dataframe tbody tr th:only-of-type {\n",
       "        vertical-align: middle;\n",
       "    }\n",
       "\n",
       "    .dataframe tbody tr th {\n",
       "        vertical-align: top;\n",
       "    }\n",
       "\n",
       "    .dataframe thead th {\n",
       "        text-align: right;\n",
       "    }\n",
       "</style>\n",
       "<table border=\"1\" class=\"dataframe\">\n",
       "  <thead>\n",
       "    <tr style=\"text-align: right;\">\n",
       "      <th></th>\n",
       "      <th>employee_id</th>\n",
       "      <th>0</th>\n",
       "    </tr>\n",
       "  </thead>\n",
       "  <tbody>\n",
       "    <tr>\n",
       "      <th>0</th>\n",
       "      <td>8724</td>\n",
       "      <td>0.0</td>\n",
       "    </tr>\n",
       "    <tr>\n",
       "      <th>1</th>\n",
       "      <td>74430</td>\n",
       "      <td>0.0</td>\n",
       "    </tr>\n",
       "    <tr>\n",
       "      <th>2</th>\n",
       "      <td>72255</td>\n",
       "      <td>0.0</td>\n",
       "    </tr>\n",
       "    <tr>\n",
       "      <th>3</th>\n",
       "      <td>38562</td>\n",
       "      <td>0.0</td>\n",
       "    </tr>\n",
       "    <tr>\n",
       "      <th>4</th>\n",
       "      <td>64486</td>\n",
       "      <td>0.0</td>\n",
       "    </tr>\n",
       "    <tr>\n",
       "      <th>...</th>\n",
       "      <td>...</td>\n",
       "      <td>...</td>\n",
       "    </tr>\n",
       "    <tr>\n",
       "      <th>23485</th>\n",
       "      <td>53478</td>\n",
       "      <td>0.0</td>\n",
       "    </tr>\n",
       "    <tr>\n",
       "      <th>23486</th>\n",
       "      <td>25600</td>\n",
       "      <td>0.0</td>\n",
       "    </tr>\n",
       "    <tr>\n",
       "      <th>23487</th>\n",
       "      <td>45409</td>\n",
       "      <td>0.0</td>\n",
       "    </tr>\n",
       "    <tr>\n",
       "      <th>23488</th>\n",
       "      <td>1186</td>\n",
       "      <td>0.0</td>\n",
       "    </tr>\n",
       "    <tr>\n",
       "      <th>23489</th>\n",
       "      <td>5973</td>\n",
       "      <td>1.0</td>\n",
       "    </tr>\n",
       "  </tbody>\n",
       "</table>\n",
       "<p>23490 rows × 2 columns</p>\n",
       "</div>"
      ],
      "text/plain": [
       "       employee_id    0\n",
       "0             8724  0.0\n",
       "1            74430  0.0\n",
       "2            72255  0.0\n",
       "3            38562  0.0\n",
       "4            64486  0.0\n",
       "...            ...  ...\n",
       "23485        53478  0.0\n",
       "23486        25600  0.0\n",
       "23487        45409  0.0\n",
       "23488         1186  0.0\n",
       "23489         5973  1.0\n",
       "\n",
       "[23490 rows x 2 columns]"
      ]
     },
     "execution_count": 181,
     "metadata": {},
     "output_type": "execute_result"
    }
   ],
   "source": [
    "xg"
   ]
  },
  {
   "cell_type": "code",
   "execution_count": 182,
   "id": "9f15d699",
   "metadata": {},
   "outputs": [],
   "source": [
    "xg.to_csv(\"xg1.csv\",index=False)"
   ]
  },
  {
   "cell_type": "code",
   "execution_count": null,
   "id": "5b9200f8",
   "metadata": {},
   "outputs": [],
   "source": []
  }
 ],
 "metadata": {
  "kernelspec": {
   "display_name": "Python 3 (ipykernel)",
   "language": "python",
   "name": "python3"
  },
  "language_info": {
   "codemirror_mode": {
    "name": "ipython",
    "version": 3
   },
   "file_extension": ".py",
   "mimetype": "text/x-python",
   "name": "python",
   "nbconvert_exporter": "python",
   "pygments_lexer": "ipython3",
   "version": "3.9.7"
  }
 },
 "nbformat": 4,
 "nbformat_minor": 5
}
